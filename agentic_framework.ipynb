{
 "cells": [
  {
   "cell_type": "markdown",
   "id": "c8b4dc43-a642-4416-abad-3a5fd9e17ce6",
   "metadata": {},
   "source": [
    "# Agents "
   ]
  },
  {
   "cell_type": "markdown",
   "id": "b642c990-a3ce-4440-8b89-927e82589bde",
   "metadata": {},
   "source": [
    "## Response framework"
   ]
  },
  {
   "cell_type": "code",
   "execution_count": 2,
   "id": "78023b40-db19-40f3-b59e-56827753981e",
   "metadata": {},
   "outputs": [],
   "source": [
    "from openai import OpenAI\n",
    "from agents import Agent, Runner"
   ]
  },
  {
   "cell_type": "code",
   "execution_count": 17,
   "id": "8f28bc06-929a-4a69-ae7c-6b3ed4464688",
   "metadata": {},
   "outputs": [
    {
     "name": "stdout",
     "output_type": "stream",
     "text": [
      "The provided Python code initializes a variable `total` to 0 and then iterates over the range from 0 to 9 (inclusive) to calculate the sum of the squares of each integer in that range.\n",
      "\n",
      "Here’s a breakdown of the code:\n",
      "\n",
      "```python\n",
      "total = 0\n",
      "for i in range(10):\n",
      "    total += i**2\n",
      "```\n",
      "\n",
      "During each iteration of the loop, `i` takes on values from 0 to 9, and `i**2` calculates the square of `i`. The results for each iteration are as follows:\n",
      "\n",
      "- When `i = 0`: \\( 0^2 = 0 \\)\n",
      "- When `i = 1`: \\( 1^2 = 1 \\)\n",
      "- When `i = 2`: \\( 2^2 = 4 \\)\n",
      "- When `i = 3`: \\( 3^2 = 9 \\)\n",
      "- When `i = 4`: \\( 4^2 = 16 \\)\n",
      "- When `i = 5`: \\( 5^2 = 25 \\)\n",
      "- When `i = 6`: \\( 6^2 = 36 \\)\n",
      "- When `i = 7`: \\( 7^2 = 49 \\)\n",
      "- When `i = 8`: \\( 8^2 = 64 \\)\n",
      "- When `i = 9`: \\( 9^2 = 81 \\)\n",
      "\n",
      "Now, we can sum all these values:\n",
      "\n",
      "\\[\n",
      "0 + 1 + 4 + 9 + 16 + 25 + 36 + 49 + 64 + 81 = 285\n",
      "\\]\n",
      "\n",
      "Therefore, the final output of `total` after the loop completes will be **285**.\n"
     ]
    }
   ],
   "source": [
    "client = OpenAI()\n",
    "\n",
    "response = client.responses.create(\n",
    "    instructions=\"You are a helpful assistant\",\n",
    "    model=\"gpt-4o-mini\",\n",
    "    input=\"What will be the output of my python function total = 0; for i in range(10): total += i**2\"\n",
    ")\n",
    "\n",
    "print(response.output_text)"
   ]
  },
  {
   "cell_type": "markdown",
   "id": "4e32f742-ac54-47de-8051-ab029993aef9",
   "metadata": {},
   "source": [
    "## Agentic framework"
   ]
  },
  {
   "cell_type": "markdown",
   "id": "a528b3db-45db-43be-be07-15fbc9ac67cd",
   "metadata": {},
   "source": [
    "Agents - is a new framework, built on top of basic responses/completion API. \n",
    "\n",
    "Agentic framework introduces few abstractions to build agentic AI apps more efficient:\n",
    "* Agent  -  LLMs equipped with instructions and tools\n",
    "* Handoffs - a way to coordinate and delegate between multiple agents\n",
    "* Guardrails -  input validations in parallel to agents"
   ]
  },
  {
   "cell_type": "code",
   "execution_count": null,
   "id": "5cb64536-f7df-49f2-9a25-f3efcb6c6c88",
   "metadata": {},
   "outputs": [],
   "source": []
  },
  {
   "cell_type": "code",
   "execution_count": null,
   "id": "8754e955-9578-428a-8a02-cdaeb4603e50",
   "metadata": {},
   "outputs": [
    {
     "name": "stdout",
     "output_type": "stream",
     "text": [
      "Let's analyze your Python code:\n",
      "\n",
      "```python\n",
      "total = 0\n",
      "for i in range(10):\n",
      "    total += i**2\n",
      "```\n",
      "\n",
      "**Step-by-step calculation:**\n",
      "\n",
      "For `i` in `range(10)`, i.e., `i` from 0 to 9, you add `i**2` to `total`.\n",
      "\n",
      "- When i = 0: total += 0² = 0   => total = 0\n",
      "- When i = 1: total += 1² = 1   => total = 1\n",
      "- When i = 2: total += 2² = 4   => total = 5\n",
      "- When i = 3: total += 3² = 9   => total = 14\n",
      "- When i = 4: total += 4² = 16  => total = 30\n",
      "- When i = 5: total += 5² = 25  => total = 55\n",
      "- When i = 6: total += 6² = 36  => total = 91\n",
      "- When i = 7: total += 7² = 49  => total = 140\n",
      "- When i = 8: total += 8² = 64  => total = 204\n",
      "- When i = 9: total += 9² = 81  => total = 285\n",
      "\n",
      "So, **the output of your code will be:**  \n",
      "```\n",
      "285\n",
      "```\n",
      "\n",
      "If you want to **see this output**, add a print statement:\n",
      "\n",
      "```python\n",
      "print(total)\n",
      "```\n",
      "\n",
      "**Final code:**\n",
      "```python\n",
      "total = 0\n",
      "for i in range(10):\n",
      "    total += i**2\n",
      "print(total)   # Output will be 285\n",
      "```\n"
     ]
    }
   ],
   "source": [
    "from agents import Agent, Runner\n",
    "agent = Agent(name=\"Assistant\", instructions=\"You are a helpful assistant\", model=\"gpt-4.1\")\n",
    "\n",
    "result = await Runner.run(agent, \"What will be the output of my python function total = 0; for i in range(10): total += i**2\")\n",
    "print(result.final_output)"
   ]
  },
  {
   "cell_type": "markdown",
   "id": "d692fbf7-c267-49a0-ae27-43de1ad34914",
   "metadata": {},
   "source": [
    "The runner then runs a loop:\n",
    "1. We call the LLM for the current agent, with the current input.\n",
    "2. The LLM produces its output.\n",
    "    * If the LLM returns a final_output, the loop ends and we return the result.\n",
    "    * If the LLM does a handoff, we update the current agent and input, and re-run the loop.\n",
    "    * If the LLM produces tool calls, we run those tool calls, append the results, and re-run the loop.\n",
    "3. If we exceed the max_turns passes, we raise an exception."
   ]
  },
  {
   "cell_type": "code",
   "execution_count": null,
   "id": "fbeafdf4-59f7-43eb-a672-e433b0c28949",
   "metadata": {
    "scrolled": true
   },
   "outputs": [
    {
     "ename": "RuntimeError",
     "evalue": "This event loop is already running",
     "output_type": "error",
     "traceback": [
      "\u001b[0;31m---------------------------------------------------------------------------\u001b[0m",
      "\u001b[0;31mRuntimeError\u001b[0m                              Traceback (most recent call last)",
      "Cell \u001b[0;32mIn[100], line 2\u001b[0m\n\u001b[1;32m      1\u001b[0m \u001b[38;5;66;03m#this should fail\u001b[39;00m\n\u001b[0;32m----> 2\u001b[0m result \u001b[38;5;241m=\u001b[39m \u001b[43mRunner\u001b[49m\u001b[38;5;241;43m.\u001b[39;49m\u001b[43mrun_sync\u001b[49m\u001b[43m(\u001b[49m\u001b[43magent\u001b[49m\u001b[43m,\u001b[49m\u001b[43m \u001b[49m\u001b[38;5;124;43m\"\u001b[39;49m\u001b[38;5;124;43mWhat will be the output of my python function total = 0; for i in range(10): total += i**2\u001b[39;49m\u001b[38;5;124;43m\"\u001b[39;49m\u001b[43m)\u001b[49m\n\u001b[1;32m      3\u001b[0m \u001b[38;5;28mprint\u001b[39m(result\u001b[38;5;241m.\u001b[39mfinal_output)\n",
      "File \u001b[0;32m/opt/homebrew/Caskroom/miniconda/base/envs/py11/lib/python3.11/site-packages/agents/run.py:335\u001b[0m, in \u001b[0;36mRunner.run_sync\u001b[0;34m(cls, starting_agent, input, context, max_turns, hooks, run_config, previous_response_id)\u001b[0m\n\u001b[1;32m    289\u001b[0m \u001b[38;5;129m@classmethod\u001b[39m\n\u001b[1;32m    290\u001b[0m \u001b[38;5;28;01mdef\u001b[39;00m \u001b[38;5;21mrun_sync\u001b[39m(\n\u001b[1;32m    291\u001b[0m     \u001b[38;5;28mcls\u001b[39m,\n\u001b[0;32m   (...)\u001b[0m\n\u001b[1;32m    299\u001b[0m     previous_response_id: \u001b[38;5;28mstr\u001b[39m \u001b[38;5;241m|\u001b[39m \u001b[38;5;28;01mNone\u001b[39;00m \u001b[38;5;241m=\u001b[39m \u001b[38;5;28;01mNone\u001b[39;00m,\n\u001b[1;32m    300\u001b[0m ) \u001b[38;5;241m-\u001b[39m\u001b[38;5;241m>\u001b[39m RunResult:\n\u001b[1;32m    301\u001b[0m \u001b[38;5;250m    \u001b[39m\u001b[38;5;124;03m\"\"\"Run a workflow synchronously, starting at the given agent. Note that this just wraps the\u001b[39;00m\n\u001b[1;32m    302\u001b[0m \u001b[38;5;124;03m    `run` method, so it will not work if there's already an event loop (e.g. inside an async\u001b[39;00m\n\u001b[1;32m    303\u001b[0m \u001b[38;5;124;03m    function, or in a Jupyter notebook or async context like FastAPI). For those cases, use\u001b[39;00m\n\u001b[0;32m   (...)\u001b[0m\n\u001b[1;32m    333\u001b[0m \u001b[38;5;124;03m        agent. Agents may perform handoffs, so we don't know the specific type of the output.\u001b[39;00m\n\u001b[1;32m    334\u001b[0m \u001b[38;5;124;03m    \"\"\"\u001b[39;00m\n\u001b[0;32m--> 335\u001b[0m     \u001b[38;5;28;01mreturn\u001b[39;00m \u001b[43masyncio\u001b[49m\u001b[38;5;241;43m.\u001b[39;49m\u001b[43mget_event_loop\u001b[49m\u001b[43m(\u001b[49m\u001b[43m)\u001b[49m\u001b[38;5;241;43m.\u001b[39;49m\u001b[43mrun_until_complete\u001b[49m\u001b[43m(\u001b[49m\n\u001b[1;32m    336\u001b[0m \u001b[43m        \u001b[49m\u001b[38;5;28;43mcls\u001b[39;49m\u001b[38;5;241;43m.\u001b[39;49m\u001b[43mrun\u001b[49m\u001b[43m(\u001b[49m\n\u001b[1;32m    337\u001b[0m \u001b[43m            \u001b[49m\u001b[43mstarting_agent\u001b[49m\u001b[43m,\u001b[49m\n\u001b[1;32m    338\u001b[0m \u001b[43m            \u001b[49m\u001b[38;5;28;43minput\u001b[39;49m\u001b[43m,\u001b[49m\n\u001b[1;32m    339\u001b[0m \u001b[43m            \u001b[49m\u001b[43mcontext\u001b[49m\u001b[38;5;241;43m=\u001b[39;49m\u001b[43mcontext\u001b[49m\u001b[43m,\u001b[49m\n\u001b[1;32m    340\u001b[0m \u001b[43m            \u001b[49m\u001b[43mmax_turns\u001b[49m\u001b[38;5;241;43m=\u001b[39;49m\u001b[43mmax_turns\u001b[49m\u001b[43m,\u001b[49m\n\u001b[1;32m    341\u001b[0m \u001b[43m            \u001b[49m\u001b[43mhooks\u001b[49m\u001b[38;5;241;43m=\u001b[39;49m\u001b[43mhooks\u001b[49m\u001b[43m,\u001b[49m\n\u001b[1;32m    342\u001b[0m \u001b[43m            \u001b[49m\u001b[43mrun_config\u001b[49m\u001b[38;5;241;43m=\u001b[39;49m\u001b[43mrun_config\u001b[49m\u001b[43m,\u001b[49m\n\u001b[1;32m    343\u001b[0m \u001b[43m            \u001b[49m\u001b[43mprevious_response_id\u001b[49m\u001b[38;5;241;43m=\u001b[39;49m\u001b[43mprevious_response_id\u001b[49m\u001b[43m,\u001b[49m\n\u001b[1;32m    344\u001b[0m \u001b[43m        \u001b[49m\u001b[43m)\u001b[49m\n\u001b[1;32m    345\u001b[0m \u001b[43m    \u001b[49m\u001b[43m)\u001b[49m\n",
      "File \u001b[0;32m/opt/homebrew/Caskroom/miniconda/base/envs/py11/lib/python3.11/asyncio/base_events.py:629\u001b[0m, in \u001b[0;36mBaseEventLoop.run_until_complete\u001b[0;34m(self, future)\u001b[0m\n\u001b[1;32m    618\u001b[0m \u001b[38;5;250m\u001b[39m\u001b[38;5;124;03m\"\"\"Run until the Future is done.\u001b[39;00m\n\u001b[1;32m    619\u001b[0m \n\u001b[1;32m    620\u001b[0m \u001b[38;5;124;03mIf the argument is a coroutine, it is wrapped in a Task.\u001b[39;00m\n\u001b[0;32m   (...)\u001b[0m\n\u001b[1;32m    626\u001b[0m \u001b[38;5;124;03mReturn the Future's result, or raise its exception.\u001b[39;00m\n\u001b[1;32m    627\u001b[0m \u001b[38;5;124;03m\"\"\"\u001b[39;00m\n\u001b[1;32m    628\u001b[0m \u001b[38;5;28mself\u001b[39m\u001b[38;5;241m.\u001b[39m_check_closed()\n\u001b[0;32m--> 629\u001b[0m \u001b[38;5;28;43mself\u001b[39;49m\u001b[38;5;241;43m.\u001b[39;49m\u001b[43m_check_running\u001b[49m\u001b[43m(\u001b[49m\u001b[43m)\u001b[49m\n\u001b[1;32m    631\u001b[0m new_task \u001b[38;5;241m=\u001b[39m \u001b[38;5;129;01mnot\u001b[39;00m futures\u001b[38;5;241m.\u001b[39misfuture(future)\n\u001b[1;32m    632\u001b[0m future \u001b[38;5;241m=\u001b[39m tasks\u001b[38;5;241m.\u001b[39mensure_future(future, loop\u001b[38;5;241m=\u001b[39m\u001b[38;5;28mself\u001b[39m)\n",
      "File \u001b[0;32m/opt/homebrew/Caskroom/miniconda/base/envs/py11/lib/python3.11/asyncio/base_events.py:588\u001b[0m, in \u001b[0;36mBaseEventLoop._check_running\u001b[0;34m(self)\u001b[0m\n\u001b[1;32m    586\u001b[0m \u001b[38;5;28;01mdef\u001b[39;00m \u001b[38;5;21m_check_running\u001b[39m(\u001b[38;5;28mself\u001b[39m):\n\u001b[1;32m    587\u001b[0m     \u001b[38;5;28;01mif\u001b[39;00m \u001b[38;5;28mself\u001b[39m\u001b[38;5;241m.\u001b[39mis_running():\n\u001b[0;32m--> 588\u001b[0m         \u001b[38;5;28;01mraise\u001b[39;00m \u001b[38;5;167;01mRuntimeError\u001b[39;00m(\u001b[38;5;124m'\u001b[39m\u001b[38;5;124mThis event loop is already running\u001b[39m\u001b[38;5;124m'\u001b[39m)\n\u001b[1;32m    589\u001b[0m     \u001b[38;5;28;01mif\u001b[39;00m events\u001b[38;5;241m.\u001b[39m_get_running_loop() \u001b[38;5;129;01mis\u001b[39;00m \u001b[38;5;129;01mnot\u001b[39;00m \u001b[38;5;28;01mNone\u001b[39;00m:\n\u001b[1;32m    590\u001b[0m         \u001b[38;5;28;01mraise\u001b[39;00m \u001b[38;5;167;01mRuntimeError\u001b[39;00m(\n\u001b[1;32m    591\u001b[0m             \u001b[38;5;124m'\u001b[39m\u001b[38;5;124mCannot run the event loop while another loop is running\u001b[39m\u001b[38;5;124m'\u001b[39m)\n",
      "\u001b[0;31mRuntimeError\u001b[0m: This event loop is already running"
     ]
    }
   ],
   "source": [
    "#this should fail\n",
    "result = Runner.run_sync(agent, \"What will be the output of my python function total = 0; for i in range(10): total += i**2\")\n",
    "print(result.final_output)"
   ]
  },
  {
   "cell_type": "markdown",
   "id": "6dd7365c-5e48-4f6c-b6b8-97a0b99d5735",
   "metadata": {},
   "source": [
    "In **Jupyter notebooks**, always use **await Runner.run(...)** instead of run_sync(...). \n",
    "\n",
    "Jupyter already runs an event loop, and trying to start another will cause errors."
   ]
  },
  {
   "cell_type": "markdown",
   "id": "5c2f5c11-e120-46bd-8c37-7f9379ea3caa",
   "metadata": {},
   "source": [
    "## Hosted tools"
   ]
  },
  {
   "cell_type": "code",
   "execution_count": 58,
   "id": "a0f3a172-4e08-4737-93d4-a05f0e847712",
   "metadata": {},
   "outputs": [],
   "source": [
    "from agents import Agent, Runner, WebSearchTool"
   ]
  },
  {
   "cell_type": "code",
   "execution_count": 61,
   "id": "a888c4e4-617c-47f0-8618-8995f061e0fc",
   "metadata": {},
   "outputs": [],
   "source": [
    "search_agent = Agent(\n",
    "    name=\"Assistant\",\n",
    "    tools=[\n",
    "        WebSearchTool(),\n",
    "    ],\n",
    ")"
   ]
  },
  {
   "cell_type": "code",
   "execution_count": 65,
   "id": "76ba54ee-e368-4073-ba7e-7065abe7e56d",
   "metadata": {},
   "outputs": [
    {
     "name": "stdout",
     "output_type": "stream",
     "text": [
      "I don’t have real-time data access, so I can’t provide the current weather in London right now. For the latest weather updates, please check a reliable source such as:\n",
      "\n",
      "- [BBC Weather - London](https://www.bbc.co.uk/weather/2643743)\n",
      "- [Met Office - London](https://www.metoffice.gov.uk/weather/forecast/gcpvj0v07)\n",
      "- [Weather.com - London](https://weather.com/weather/today/l/London+United+Kingdom)\n",
      "\n",
      "If you have enabled a weather app or assistant (like Google Assistant or Siri), you can also ask: “What’s the weather in London today?” for instant results!\n"
     ]
    }
   ],
   "source": [
    "result = await Runner.run(agent, \"What the weather in London is like today?\")\n",
    "print(result.final_output)"
   ]
  },
  {
   "cell_type": "code",
   "execution_count": 62,
   "id": "4ef48262-24a7-46a1-abcd-79a48d4235bf",
   "metadata": {},
   "outputs": [
    {
     "name": "stdout",
     "output_type": "stream",
     "text": [
      "As of 1:30 PM on Wednesday, April 16, 2025, in London, the weather is partly sunny with a temperature of 60°F (16°C).\n",
      "\n",
      "## Weather for London, Greater London, United Kingdom:\n",
      "Current Conditions: Partly sunny, 60°F (16°C)\n",
      "\n",
      "Daily Forecast:\n",
      "* Wednesday, April 16: Low: 42°F (6°C), High: 61°F (16°C), Description: Windy with some clouds, then sunshine\n",
      "* Thursday, April 17: Low: 46°F (8°C), High: 64°F (18°C), Description: Partly sunny\n",
      "* Friday, April 18: Low: 49°F (9°C), High: 64°F (18°C), Description: Pleasant with clouds and sunshine\n",
      "* Saturday, April 19: Low: 45°F (7°C), High: 60°F (16°C), Description: Cloudy\n",
      "* Sunday, April 20: Low: 47°F (8°C), High: 61°F (16°C), Description: Low clouds\n",
      "* Monday, April 21: Low: 49°F (9°C), High: 60°F (16°C), Description: Cloudy with a couple of showers in the afternoon\n",
      "* Tuesday, April 22: Low: 48°F (9°C), High: 63°F (17°C), Description: Partial sunshine with a couple of showers, mainly early in the day\n",
      "\n",
      "\n",
      "Please note that weather conditions can change, so it's advisable to check for the latest updates if you have plans outdoors. \n"
     ]
    }
   ],
   "source": [
    "result = await Runner.run(search_agent, \"What the weather in London is like today?\")\n",
    "print(result.final_output)"
   ]
  },
  {
   "cell_type": "markdown",
   "id": "f0f05f4b-fce2-442e-96e2-599d8ba2cba6",
   "metadata": {},
   "source": [
    "more on buildin tools: https://openai.github.io/openai-agents-python/tools/ "
   ]
  },
  {
   "cell_type": "markdown",
   "id": "3c47c497-340e-487a-b1d0-d13b91c1f94f",
   "metadata": {},
   "source": [
    "## Function tools"
   ]
  },
  {
   "cell_type": "code",
   "execution_count": 27,
   "id": "bf5c6975-ada9-4ba1-8a5f-4278b3a6f16a",
   "metadata": {},
   "outputs": [],
   "source": [
    "import json\n",
    "\n",
    "from typing_extensions import TypedDict, Any\n",
    "from agents import Agent, FunctionTool, RunContextWrapper, function_tool"
   ]
  },
  {
   "cell_type": "code",
   "execution_count": 28,
   "id": "837f0ac7-696e-4702-8070-2a24533e214c",
   "metadata": {},
   "outputs": [],
   "source": [
    "class Location(TypedDict):\n",
    "    lat: float\n",
    "    long: float\n",
    "\n",
    "@function_tool  \n",
    "async def fetch_weather(location: Location) -> str:\n",
    "    \"\"\"Fetch the weather for a given location.\n",
    "\n",
    "    Args:\n",
    "        location: The location to fetch the weather for.\n",
    "    \"\"\"\n",
    "    # In real life, we'd fetch the weather from a weather API\n",
    "    return \"sunny\""
   ]
  },
  {
   "cell_type": "code",
   "execution_count": 29,
   "id": "0223d469-af5d-4ff6-b966-9c186d11c73c",
   "metadata": {},
   "outputs": [],
   "source": [
    "agent_with_a_tool = Agent(\n",
    "    name=\"Assistant with tools\",\n",
    "    tools=[fetch_weather],\n",
    ")"
   ]
  },
  {
   "cell_type": "code",
   "execution_count": 30,
   "id": "5c95a8c5-9495-4c69-843e-f8b97b9c35cd",
   "metadata": {},
   "outputs": [
    {
     "name": "stdout",
     "output_type": "stream",
     "text": [
      "The given Python function will calculate the sum of the squares of the numbers from 0 to 9. Here's the breakdown of what it does:\n",
      "\n",
      "1. Initializes `total` to 0.\n",
      "2. Iterates over each integer `i` from 0 to 9.\n",
      "3. For each `i`, it adds `i**2` (i squared) to `total`.\n",
      "\n",
      "Here's the process step-by-step:\n",
      "\n",
      "- When `i = 0`: total += 0\\*\\*2 = 0\n",
      "- When `i = 1`: total += 1\\*\\*2 = 1\n",
      "- When `i = 2`: total += 2\\*\\*2 = 4\n",
      "- When `i = 3`: total += 3\\*\\*2 = 9\n",
      "- When `i = 4`: total += 4\\*\\*2 = 16\n",
      "- When `i = 5`: total += 5\\*\\*2 = 25\n",
      "- When `i = 6`: total += 6\\*\\*2 = 36\n",
      "- When `i = 7`: total += 7\\*\\*2 = 49\n",
      "- When `i = 8`: total += 8\\*\\*2 = 64\n",
      "- When `i = 9`: total += 9\\*\\*2 = 81\n",
      "\n",
      "Adding up these values:\n",
      "\n",
      "0 + 1 + 4 + 9 + 16 + 25 + 36 + 49 + 64 + 81 = 285\n",
      "\n",
      "So, the output of the function will be `total = 285`.\n"
     ]
    }
   ],
   "source": [
    "result = await Runner.run(agent_with_a_tool, \"What will be the output of my python function total = 0; for i in range(10): total += i**2\")\n",
    "print(result.final_output)"
   ]
  },
  {
   "cell_type": "code",
   "execution_count": 32,
   "id": "2dde9d2c-8ba7-491d-8b95-1c775b866bb7",
   "metadata": {},
   "outputs": [
    {
     "name": "stdout",
     "output_type": "stream",
     "text": [
      "I don't have access to real-time data, including current weather updates. For the most accurate and up-to-date weather in London today, please check a reliable weather website like [BBC Weather](https://www.bbc.co.uk/weather), [Weather.com](https://weather.com), or a weather app on your smartphone.\n",
      "\n",
      "If you tell me what you’re planning to do, I can give you general advice on London’s typical weather for this time of year!\n"
     ]
    }
   ],
   "source": [
    "result = await Runner.run(agent, \"What the weather in London is like today?\")\n",
    "print(result.final_output)"
   ]
  },
  {
   "cell_type": "markdown",
   "id": "cab59b37-1291-47a1-a58e-cad764b3fca1",
   "metadata": {},
   "source": [
    "result = await Runner.run(agent_with_a_tool, \"What the weather in London is like today?\")\n",
    "print(result.final_output)"
   ]
  },
  {
   "cell_type": "markdown",
   "id": "94fc572c-3a0d-4a81-b584-877cca68f660",
   "metadata": {},
   "source": [
    "## Agent as a tool"
   ]
  },
  {
   "cell_type": "code",
   "execution_count": 34,
   "id": "a1c667d0-144c-4f5f-9867-921f9d0bdacb",
   "metadata": {},
   "outputs": [],
   "source": [
    "from agents import Agent, Runner\n",
    "import asyncio"
   ]
  },
  {
   "cell_type": "code",
   "execution_count": 45,
   "id": "cd6a1eaa-f84f-43ca-b846-5937e63fa724",
   "metadata": {},
   "outputs": [],
   "source": [
    "russian_agent = Agent(\n",
    "    name=\"Russian agent\",\n",
    "    instructions=\"You translate the user's message to Russian\",\n",
    ")\n",
    "\n",
    "french_agent = Agent(\n",
    "    name=\"French agent\",\n",
    "    instructions=\"You translate the user's message to French\",\n",
    ")"
   ]
  },
  {
   "cell_type": "code",
   "execution_count": 47,
   "id": "8d3dd151-a8b9-4016-b356-d7a9ea12f9f1",
   "metadata": {},
   "outputs": [],
   "source": [
    "orchestrator_agent = Agent(\n",
    "    name=\"orchestrator_agent\",\n",
    "    instructions=(\n",
    "        \"You are a translation agent. You use the tools given to you to translate.\"\n",
    "        \"If asked for multiple translations, you call the relevant tools.\"\n",
    "    ),\n",
    "    tools=[\n",
    "        russian_agent.as_tool(\n",
    "            tool_name=\"translate_to_russian\",\n",
    "            tool_description=\"Translate the user's message to Spanish\",\n",
    "        ),\n",
    "        french_agent.as_tool(\n",
    "            tool_name=\"translate_to_french\",\n",
    "            tool_description=\"Translate the user's message to French\",\n",
    "        ),\n",
    "    ],\n",
    ")"
   ]
  },
  {
   "cell_type": "code",
   "execution_count": 51,
   "id": "d9669869-117c-49e6-8805-60587defc504",
   "metadata": {},
   "outputs": [
    {
     "name": "stdout",
     "output_type": "stream",
     "text": [
      "\"Hello, how are you?\" in Thai is \"สวัสดี คุณเป็นอย่างไรบ้าง?\"\n"
     ]
    }
   ],
   "source": [
    "result = await Runner.run(orchestrator_agent, input=\"Say 'Hello, how are you?' in Thai.\")\n",
    "print(result.final_output)"
   ]
  },
  {
   "cell_type": "code",
   "execution_count": 52,
   "id": "cd86644a-7d77-4337-b10d-7e23f78632c9",
   "metadata": {},
   "outputs": [
    {
     "name": "stdout",
     "output_type": "stream",
     "text": [
      "ModelResponse(output=[ResponseOutputMessage(id='msg_67ffabc71ac88192ad95843edfba8e27061d3a88aa36cb1d', content=[ResponseOutputText(annotations=[], text='\"Hello, how are you?\" in Thai is \"สวัสดี คุณเป็นอย่างไรบ้าง?\"', type='output_text')], role='assistant', status='completed', type='message')], usage=Usage(requests=1, input_tokens=125, output_tokens=24, total_tokens=149), response_id='resp_67ffabc64ea0819294f4745c1ee037fa061d3a88aa36cb1d')\n",
      "\n",
      "\n"
     ]
    }
   ],
   "source": [
    "for step in result.raw_responses:\n",
    "    print(step)\n",
    "    print(\"\\n\")"
   ]
  },
  {
   "cell_type": "code",
   "execution_count": 53,
   "id": "da2d1f8c-4bb7-4376-a181-3efd0212f02f",
   "metadata": {},
   "outputs": [
    {
     "name": "stdout",
     "output_type": "stream",
     "text": [
      "\"Hello, how are you?\" in French is: \"Bonjour, comment ça va ?\"\n"
     ]
    }
   ],
   "source": [
    "result = await Runner.run(orchestrator_agent, input=\"Say 'Hello, how are you?' in French.\")\n",
    "print(result.final_output)"
   ]
  },
  {
   "cell_type": "code",
   "execution_count": 54,
   "id": "7eb23ac8-8637-462f-a257-fbc40561d8a6",
   "metadata": {},
   "outputs": [
    {
     "name": "stdout",
     "output_type": "stream",
     "text": [
      "ModelResponse(output=[ResponseFunctionToolCall(arguments='{\"input\":\"Hello, how are you?\"}', call_id='call_PqabFSFmzKoI5O0LmQbjEp31', name='translate_to_french', type='function_call', id='fc_67ffabe23c408192b703099f1cfdfdbc0d52e9dde6ef70ca', status='completed')], usage=Usage(requests=1, input_tokens=125, output_tokens=22, total_tokens=147), response_id='resp_67ffabe1b1d481929ca2a51866d6629d0d52e9dde6ef70ca')\n",
      "\n",
      "\n",
      "ModelResponse(output=[ResponseOutputMessage(id='msg_67ffabe42edc8192a768a69207b23e640d52e9dde6ef70ca', content=[ResponseOutputText(annotations=[], text='\"Hello, how are you?\" in French is: \"Bonjour, comment ça va ?\"', type='output_text')], role='assistant', status='completed', type='message')], usage=Usage(requests=1, input_tokens=163, output_tokens=20, total_tokens=183), response_id='resp_67ffabe3b43081929cf41dc8757565940d52e9dde6ef70ca')\n",
      "\n",
      "\n"
     ]
    }
   ],
   "source": [
    "for step in result.raw_responses:\n",
    "    print(step)\n",
    "    print(\"\\n\")"
   ]
  },
  {
   "cell_type": "markdown",
   "id": "ea047c00-1197-4e2d-82fc-77868d084f8c",
   "metadata": {},
   "source": [
    "result = await Runner.run(orchestrator_agent, input=\"Say 'Hello, how are you?' in French and in Russian.\")\n",
    "print(result.final_output)"
   ]
  },
  {
   "cell_type": "code",
   "execution_count": 56,
   "id": "d99cd9f5-984c-4c21-a69b-e2a2597293f2",
   "metadata": {},
   "outputs": [
    {
     "name": "stdout",
     "output_type": "stream",
     "text": [
      "ModelResponse(output=[ResponseFunctionToolCall(arguments='{\"input\":\"Hello, how are you?\"}', call_id='call_rZGu4hM3boo8KAfsr67NZJdE', name='translate_to_french', type='function_call', id='fc_67ffabf5f7908192a9e297428ac01c3c0642b864a2d3e916', status='completed'), ResponseFunctionToolCall(arguments='{\"input\":\"Hello, how are you?\"}', call_id='call_jNyXrxSpzsSMI2wmVIJCZUWL', name='translate_to_russian', type='function_call', id='fc_67ffabf63294819298cc8184fcc421050642b864a2d3e916', status='completed')], usage=Usage(requests=1, input_tokens=0, output_tokens=0, total_tokens=0), response_id='resp_67ffabf4f2c08192abd9dfe1dc633f4c0642b864a2d3e916')\n",
      "\n",
      "\n",
      "ModelResponse(output=[ResponseOutputMessage(id='msg_67ffabf856f88192b3d2bf62105813160642b864a2d3e916', content=[ResponseOutputText(annotations=[], text='In French: \"Bonjour, comment ça va ?\"\\n\\nIn Russian: \"Привет, как ты?\"', type='output_text')], role='assistant', status='completed', type='message')], usage=Usage(requests=1, input_tokens=198, output_tokens=23, total_tokens=221), response_id='resp_67ffabf7b3cc8192970391c3b59995100642b864a2d3e916')\n",
      "\n",
      "\n"
     ]
    }
   ],
   "source": [
    "for step in result.raw_responses:\n",
    "    print(step)\n",
    "    print(\"\\n\")"
   ]
  },
  {
   "cell_type": "markdown",
   "id": "6483797f-6fcc-4e43-8aec-bb3ff726931e",
   "metadata": {},
   "source": [
    "more on function calls: https://openai.github.io/openai-agents-python/tools/ "
   ]
  },
  {
   "cell_type": "markdown",
   "id": "9290a4bd-05e6-4bf5-8fb7-44a989a95d48",
   "metadata": {},
   "source": [
    "## Handoffs"
   ]
  },
  {
   "cell_type": "code",
   "execution_count": null,
   "id": "5abaa602-43ff-49c7-a86b-4252b9181f41",
   "metadata": {},
   "outputs": [],
   "source": [
    "from agents import Agent"
   ]
  },
  {
   "cell_type": "code",
   "execution_count": 67,
   "id": "d48a639d-f4f2-490f-b0ae-311bfe77a2ec",
   "metadata": {},
   "outputs": [],
   "source": [
    "history_tutor_agent = Agent(\n",
    "    name=\"History Tutor\",\n",
    "    handoff_description=\"Specialist agent for historical questions\",\n",
    "    instructions=\"You provide assistance with historical queries. Explain important events and context clearly.\",\n",
    ")\n",
    "\n",
    "math_tutor_agent = Agent(\n",
    "    name=\"Math Tutor\",\n",
    "    handoff_description=\"Specialist agent for math questions\",\n",
    "    instructions=\"You provide help with math problems. Explain your reasoning at each step and include examples\",\n",
    ")"
   ]
  },
  {
   "cell_type": "code",
   "execution_count": 68,
   "id": "c98a353d-bffe-496f-a86f-04436f61d60c",
   "metadata": {},
   "outputs": [],
   "source": [
    "triage_agent = Agent(\n",
    "    name=\"Triage Agent\",\n",
    "    instructions=\"You determine which agent to use based on the user's question\",\n",
    "    handoffs=[history_tutor_agent, math_tutor_agent]\n",
    ")"
   ]
  },
  {
   "cell_type": "code",
   "execution_count": 70,
   "id": "dc3c4ec4-bbcb-40ac-813d-e62b40c6f77e",
   "metadata": {},
   "outputs": [
    {
     "name": "stdout",
     "output_type": "stream",
     "text": [
      "The Maya civilization was a Mesoamerican culture that existed in present-day Mexico, Guatemala, Belize, Honduras, and El Salvador. It is renowned for its advanced writing system, art, architecture, and mathematical and astronomical systems. Here’s a brief overview of what happened to the Maya civilization:\n",
      "\n",
      "### Classic Period (c. 250–900 AD)\n",
      "- **Flourishing City-States**: During this time, the Maya civilization reached its peak with the development of numerous city-states, each with its own ruler. Major cities included Tikal, Copán, Palenque, and Calakmul.\n",
      "- **Cultural Achievements**: They made significant advances in mathematics, astronomy, and writing with the development of the Maya script.\n",
      "- **Architecture and Art**: The Maya built impressive stone structures, pyramids, palaces, and observatories.\n",
      "\n",
      "### Collapse of the Classic Period\n",
      "- **Environmental Factors**: Deforestation and drought likely contributed to the decline of many city-states.\n",
      "- **Political Conflicts**: Increased warfare and competition between city-states destabilized the political structure.\n",
      "- **Socio-Economic Issues**: Overpopulation, resource depletion, and internal social upheaval may have also played roles.\n",
      "\n",
      "### Post-Classic Period (c. 900–1500 AD)\n",
      "- **Northern Expansion**: The civilization’s focus shifted north to the Yucatán Peninsula with cities like Chichen Itza and Uxmal gaining prominence.\n",
      "- **Continued Decline**: Despite some resurgence, the power of the Maya eventually waned.\n",
      "\n",
      "### Spanish Conquest (16th Century)\n",
      "- **Colonization and Destruction**: The Spanish arrived in the 16th century and conquered the region. Much of Maya culture, including books and records, was destroyed.\n",
      "  \n",
      "### Legacy\n",
      "- **Cultural Influence**: Despite the decline of their city-states, the Maya people survived, and their descendants still live in Central America today, preserving aspects of their culture and languages.\n",
      "- **Ongoing Discoveries**: Archaeological discoveries continue to shed light on the ancient civilization, offering insights into their sophisticated society.\n",
      "\n",
      "The decline of the Maya civilization was not a single event, but rather a gradual process influenced by a combination of environmental, social, and political factors.\n"
     ]
    }
   ],
   "source": [
    "result = await Runner.run(triage_agent, \"What has happened to Maya civilization?\")\n",
    "print(result.final_output)"
   ]
  },
  {
   "cell_type": "markdown",
   "id": "ea728384-6ef8-4529-880c-9057bb06e010",
   "metadata": {},
   "source": [
    "### A short note on Agent as a tool vs Handoffs \n",
    "\n",
    "🔧 **Agent as Tool**\n",
    "* One agent calls another like a function.\n",
    "* The calling agent stays in control.\n",
    "* The tool agent just returns data or output, like a tool or utility.\n",
    "\n",
    "Analogy: You ask a calculator to compute something and you use the result.\n",
    "\n",
    "Use Agent as Tool when:\n",
    "* You need to stay in control of the logic.\n",
    "* The sub-agent’s output is just data to be used.\n",
    "* You want deterministic, synchronous behavior.\n",
    "\n",
    "🤝 **Handoff Between Agents**\n",
    "\n",
    "What it means:\n",
    "* One agent passes the control flow to another agent entirely.\n",
    "* The second agent takes over, continues the conversation or task.\n",
    "* The first agent steps out and doesn’t return until (maybe) the second agent finishes.\n",
    "\n",
    "Analogy: You go to a therapits, and they hand you off to a specialist who now handles your care.\n",
    "\n",
    "Use Handoff when:\n",
    "* The receiving agent needs to fully take over a task.\n",
    "* You want modular, autonomous agent behavior.\n",
    "* The system is meant to be open-ended or conversational."
   ]
  },
  {
   "cell_type": "markdown",
   "id": "30162c25-ba1d-4236-8b50-394055c4c774",
   "metadata": {},
   "source": [
    "## Guardrails"
   ]
  },
  {
   "cell_type": "code",
   "execution_count": 81,
   "id": "e9843acf-d53a-4752-ad24-6ff584223039",
   "metadata": {},
   "outputs": [],
   "source": [
    "from pydantic import BaseModel\n",
    "from agents import (\n",
    "    Agent,\n",
    "    GuardrailFunctionOutput,\n",
    "    InputGuardrailTripwireTriggered,\n",
    "    RunContextWrapper,\n",
    "    Runner,\n",
    "    TResponseInputItem,\n",
    "    input_guardrail,\n",
    ")"
   ]
  },
  {
   "cell_type": "code",
   "execution_count": 90,
   "id": "bf6207ce-3a13-4b5b-9ee6-19bdafcc7106",
   "metadata": {},
   "outputs": [],
   "source": [
    "class TranslationOutput(BaseModel):\n",
    "    is_translation: bool\n",
    "    reasoning: str\n",
    "\n",
    "guardrail_agent = Agent( \n",
    "    name=\"Guardrail check\",\n",
    "    instructions=\"Check if the user is asking you to translate something.\",\n",
    "    output_type=TranslationOutput,\n",
    ")"
   ]
  },
  {
   "cell_type": "code",
   "execution_count": 95,
   "id": "e2f5732e-a7ba-4907-bad1-cbcdb169174e",
   "metadata": {},
   "outputs": [],
   "source": [
    "@input_guardrail\n",
    "async def translation_guardrail(ctx: RunContextWrapper[None], \n",
    "                                agent: Agent, input: str | list[TResponseInputItem]) -> GuardrailFunctionOutput:\n",
    "    \n",
    "    result = await Runner.run(guardrail_agent, input, context=ctx.context)\n",
    "\n",
    "    return GuardrailFunctionOutput(\n",
    "        output_info=result.final_output, \n",
    "        tripwire_triggered= not result.final_output.is_translation,\n",
    "    )"
   ]
  },
  {
   "cell_type": "code",
   "execution_count": 96,
   "id": "ffb6d47d-cded-4bfd-8881-e62e80d17358",
   "metadata": {},
   "outputs": [],
   "source": [
    "translation_agent = Agent(  \n",
    "    name=\"Translation angent\",\n",
    "    instructions=\"You are a translation agent. You help users to translate text to different languages\",\n",
    "    input_guardrails=[translation_guardrail],\n",
    ")"
   ]
  },
  {
   "cell_type": "code",
   "execution_count": 97,
   "id": "e4ce9389-9f3d-40f1-a405-ecf9f9e542ef",
   "metadata": {},
   "outputs": [
    {
     "name": "stdout",
     "output_type": "stream",
     "text": [
      "Translation guardrail tripped\n"
     ]
    }
   ],
   "source": [
    "try:\n",
    "    result = await Runner.run(translation_agent, \"Hello, can you help me to write some python code?\")\n",
    "    print(\"Guardrail didn't trip - this is unexpected\")\n",
    "    print(\"\\n\")\n",
    "    print(result.final_output)\n",
    "    \n",
    "except InputGuardrailTripwireTriggered:\n",
    "    print(\"Translation guardrail tripped\")"
   ]
  },
  {
   "cell_type": "code",
   "execution_count": 99,
   "id": "30ab782e-4d32-47c0-9627-1a5d7af83466",
   "metadata": {},
   "outputs": [
    {
     "name": "stdout",
     "output_type": "stream",
     "text": [
      "Guardrail didn't trip - this is fine\n",
      "\n",
      "\n",
      "In Thai, you can say \"ไม่เอาครับ ขอบคุณครับ\" for males or \"ไม่เอาค่ะ ขอบคุณค่ะ\" for females.\n"
     ]
    }
   ],
   "source": [
    "try:\n",
    "    result = await Runner.run(translation_agent, \"Hello, how do I say 'No, thank you' in Thai?\")\n",
    "    print(\"Guardrail didn't trip - this is fine\")\n",
    "    print(\"\\n\")\n",
    "    print(result.final_output)\n",
    "    \n",
    "except InputGuardrailTripwireTriggered:\n",
    "    print(\"Translation guardrail tripped\")"
   ]
  },
  {
   "cell_type": "markdown",
   "id": "13f73201-dbf5-49bd-9fea-1e244a98f3d1",
   "metadata": {},
   "source": [
    "## Context"
   ]
  },
  {
   "cell_type": "markdown",
   "id": "37844c63-f7d9-4bb0-a20d-a5592ba6c959",
   "metadata": {},
   "source": [
    "An LLM only sees what’s in the conversation history. To give it new data, you can:\n",
    "* Add it to the Agent instructions (static or dynamic).\n",
    "* Include it in the input passed to Runner.run(...).\n",
    "* Provide it through function tools the LLM can call on demand.\n",
    "* Use retrieval or web search tools to fetch data when needed."
   ]
  },
  {
   "cell_type": "code",
   "execution_count": 12,
   "id": "7f31fcf6-b907-4128-b074-006f48e38447",
   "metadata": {},
   "outputs": [],
   "source": [
    "from typing import TypedDict\n",
    "from agents import Agent, Runner, RunContextWrapper, function_tool"
   ]
  },
  {
   "cell_type": "code",
   "execution_count": 13,
   "id": "3a047d7d-c0af-4f8f-a3e5-2b24800b8c47",
   "metadata": {},
   "outputs": [],
   "source": [
    "\n",
    "@function_tool\n",
    "async def summarize_last_user_question(ctx: RunContextWrapper[None]) -> str:\n",
    "    history = ctx.context.get(\"chat_history\", [])\n",
    "    last_user_msg = next(\n",
    "        (msg[\"content\"] for msg in reversed(history) if msg.get(\"role\") == \"user\"),\n",
    "        None\n",
    "    )\n",
    "\n",
    "    if last_user_msg:\n",
    "        return f\"You previously asked: '{last_user_msg[:100]}...'\"\n",
    "    else:\n",
    "        return \"I couldn't find any previous user messages.\"\n"
   ]
  },
  {
   "cell_type": "code",
   "execution_count": 14,
   "id": "725303f4-0cc5-4b03-aad1-eea4d2b629ed",
   "metadata": {},
   "outputs": [],
   "source": [
    "history_tool_agent = Agent(\n",
    "    name=\"History-aware Assistant\",\n",
    "    instructions=\"You help users reflect on their recent questions using chat history.\",\n",
    "    tools=[summarize_last_user_question],\n",
    ")"
   ]
  },
  {
   "cell_type": "code",
   "execution_count": 15,
   "id": "ad75ad1b-61a9-4cc6-9c35-179598bcbd4c",
   "metadata": {},
   "outputs": [
    {
     "name": "stdout",
     "output_type": "stream",
     "text": [
      "You asked about needing a left join. Would you like more information or help with that?\n"
     ]
    }
   ],
   "source": [
    "chat_history = [\n",
    "    {\"role\": \"user\", \"content\": \"How do I write a SQL query to join two tables?\"},\n",
    "    {\"role\": \"assistant\", \"content\": \"Would you like an inner join or outer join?\"},\n",
    "    {\"role\": \"user\", \"content\": \"I think I need a left join.\"}\n",
    "]\n",
    "\n",
    "result = await Runner.run(\n",
    "    history_tool_agent,\n",
    "    input=\"Can you summarize what I asked earlier?\",\n",
    "    context={\"chat_history\": chat_history}\n",
    ")\n",
    "\n",
    "print(result.final_output)"
   ]
  },
  {
   "cell_type": "code",
   "execution_count": 16,
   "id": "cf9a3816",
   "metadata": {},
   "outputs": [
    {
     "name": "stdout",
     "output_type": "stream",
     "text": [
      "К сожалению, я не могу вспомнить предыдущий вопрос. Может, вы сможете напомнить?\n"
     ]
    }
   ],
   "source": [
    "from agents import Runner\n",
    "from app.agents.interviewee_agent_new import create_interviewee_agent\n",
    "\n",
    "agent = create_interviewee_agent(\"friendly\", \"стрессоустойчивость\")\n",
    "\n",
    "chat_history = [\n",
    "    {\"role\": \"user\", \"content\": \"Расскажи о времени, когда ты был под сильным давлением\"},\n",
    "    {\"role\": \"assistant\", \"content\": \"Был проект с коротким сроком, пришлось много координировать\"},\n",
    "    {\"role\": \"user\", \"content\": \"Вспомни, что я спрашивал до этого?\"}\n",
    "]\n",
    "\n",
    "result = await Runner.run(\n",
    "    agent,\n",
    "    input=\"Вспомни, что я спрашивал до этого?\",\n",
    "    context={\"chat_history\": chat_history}\n",
    ")\n",
    "\n",
    "print(result.final_output)"
   ]
  },
  {
   "cell_type": "code",
   "execution_count": null,
   "id": "05d7c875",
   "metadata": {},
   "outputs": [],
   "source": []
  },
  {
   "cell_type": "code",
   "execution_count": null,
   "id": "77b7b04e",
   "metadata": {},
   "outputs": [],
   "source": []
  },
  {
   "cell_type": "code",
   "execution_count": 12,
   "id": "26f9af78",
   "metadata": {},
   "outputs": [
    {
     "name": "stdout",
     "output_type": "stream",
     "text": [
      "О, конфликты с коллегами – настоящая забава, не правда ли? Ну, если вам так интересно... Вся эта рутина, в которой я якобы \"успешно\" разрешаю конфликты, обычно сводится к простой магии: поговорить, выслушать, бла-бла-бла, и, возможно, привлечь третью сторону. Довольно скучно. Если бы я хотел развлечений, я бы выбрал что-то другое.\n",
      "\n",
      "И вот вопрос к вам: вам правда важны такие истории, или это просто часть \"завораживающего\" собеседования? Может поговорим о чём-то более интересном?\n"
     ]
    }
   ],
   "source": [
    "#ok\n",
    "from app.agents.interviewee_agent_new import create_interviewee_agent\n",
    "from agents import Runner\n",
    "\n",
    "agent = create_interviewee_agent(persona=\"toxic\", skill=\"работа в команде\")\n",
    "\n",
    "result = await Runner.run(agent, \"Расскажи о конфликте с коллегами и как ты его решал.\")\n",
    "print(result.final_output)"
   ]
  },
  {
   "cell_type": "code",
   "execution_count": 13,
   "id": "2bed2e8b",
   "metadata": {},
   "outputs": [
    {
     "name": "stdout",
     "output_type": "stream",
     "text": [
      "Даже не знаю, ну, вроде... я предлагал что-то улучшить, по-моему, автоматизировать процесс какой-то, чтобы быстрее всё было... Наверное, это помогло чуть-чуть.\n"
     ]
    }
   ],
   "source": [
    "#ok\n",
    "agent = create_interviewee_agent(persona=\"shy\", skill=\"инициативность\")\n",
    "result = await Runner.run(agent, \"Приведите пример, когда вы проявили инициативу на предыдущей работе.\")\n",
    "print(result.final_output)"
   ]
  },
  {
   "cell_type": "code",
   "execution_count": 14,
   "id": "a0d7bfe6",
   "metadata": {},
   "outputs": [
    {
     "name": "stdout",
     "output_type": "stream",
     "text": [
      "Tool call: ResponseFunctionToolCall(arguments='{\"Situation\":\"На прошлом месте работы я заметил, что некоторые клиенты не получали ответов на заявки в течение суток.\"}', call_id='call_mRTyBhbNaUr20Vk1bshcNLHO', name='extract_situation', type='function_call', id='fc_68029aca269c81928203ffa9fc63c50800c01ad78b032109', status='completed')\n",
      "Response from extract_situation: {'Situation': 'На прошлом месте работы я заметил, что некоторые клиенты не получали ответов на заявки в течение суток.'}\n",
      "Tool call: ResponseFunctionToolCall(arguments='{\"Task\":\"Создать практику дежурства по клиентским заявкам с целью снижения количества просрочек в ответах клиентам.\"}', call_id='call_NADt3csI4rDFbOCg5tuDFhGA', name='extract_task', type='function_call', id='fc_68029acb6954819280b218e89a4b080200f92e79b7654219', status='completed')\n",
      "Response from extract_task: {'Task': 'Создать практику дежурства по клиентским заявкам с целью снижения количества просрочек в ответах клиентам.'}\n",
      "Tool call: ResponseFunctionToolCall(arguments='{\"Action\":\"Предложил создание дежурного по клиентским заявкам, собрал статистику, предложил план, участвовал во внедрении практики дежурного по заявкам.\"}', call_id='call_dDU9DSIupYDmYnZQ5WsjoqUt', name='extract_action', type='function_call', id='fc_68029acd38f481929daa7bb40cac82ac02228fc5884c91c3', status='completed')\n",
      "Response from extract_action: {'Action': 'Предложил создание дежурного по клиентским заявкам, собрал статистику, предложил план, участвовал во внедрении практики дежурного по заявкам.'}\n",
      "Tool call: ResponseFunctionToolCall(arguments='{\"Result\":\"На прошлом месте работы кандидат предложил создать дежурного по клиентским заявкам, собрал статистику и предложил план для внедрения этой практики. В результате количество просрочек ответов на заявки снизилось на 80%.\"}', call_id='call_APSpB9WxOULxz7iI4sOkdlCH', name='extract_result', type='function_call', id='fc_68029acf053c819289fceedc7b465c6d0d6f5ad35ff28e91', status='completed')\n",
      "Response from extract_result: {'Result': 'На прошлом месте работы кандидат предложил создать дежурного по клиентским заявкам, собрал статистику и предложил план для внедрения этой практики. В результате количество просрочек ответов на заявки снизилось на 80%.'}\n",
      "Tool call: ResponseFunctionToolCall(arguments='{\"Result\":\"На прошлом месте работы кандидат заметил проблему с задержкой ответов на клиентские заявки. Несмотря на то, что это не входило в его обязанности, он предложил и реализовал инициативу по созданию дежурного по заявкам. Собрал статистику, разработал план и внедрил практику. В результате количество просрочек ответов снизилось на 80%.\"}', call_id='call_dEjNF1Md7pykwaD6jhTaG3YB', name='extract_result', type='function_call', id='fc_68029ad1007c8192a63f996a24a391ac0a40661eca68d664', status='completed')\n",
      "Response from extract_result: {'Result': 'На прошлом месте работы кандидат заметил проблему с задержкой ответов на клиентские заявки. Несмотря на то, что это не входило в его обязанности, он предложил и реализовал инициативу по созданию дежурного по заявкам. Собрал статистику, разработал план и внедрил практику. В результате количество просрочек ответов снизилось на 80%.'}\n",
      "Tool call: ResponseFunctionToolCall(arguments='{\"Result\":\"Предложение и внедрение практики дежурства по клиентским заявкам, что привело к снижению количества просрочек ответов на заявки на 80%.\"}', call_id='call_S5AVcq96f2MIF5VeiBI3gylO', name='extract_result', type='function_call', id='fc_68029ad3a66c8192acf36a842f3f3cb50e7b4bcb5a00c564', status='completed')\n",
      "Response from extract_result: {'Result': 'Предложение и внедрение практики дежурства по клиентским заявкам, что привело к снижению количества просрочек ответов на заявки на 80%.'}\n",
      "Tool call: ResponseFunctionToolCall(arguments='{\"Result\":\"Предложил создать дежурного по клиентским заявкам, собрал статистику и предложил план, что позволило внедрить новую практику. В результате количество просрочек по заявкам снизилось на 80%.\"}', call_id='call_wIuQGLtuljkaPj2aiC7gKB7a', name='extract_result', type='function_call', id='fc_68029ad540888192b7c376171d8a5e110af37174a7124f08', status='completed')\n",
      "Response from extract_result: {'Result': 'Предложил создать дежурного по клиентским заявкам, собрал статистику и предложил план, что позволило внедрить новую практику. В результате количество просрочек по заявкам снизилось на 80%.'}\n",
      "Tool call: ResponseFunctionToolCall(arguments='{\"Result\":\"На прошлом месте работы кандидат проявил инициативу для улучшения клиентского сервиса, заметив проблему с задержкой ответов на заявки. Он предложил создать дежурного по заявкам, собрал статистику, разработал план и помог внедрить новую практику, что привело к снижению количества просрочек на 80%.\"}', call_id='call_ns9Ug7J6I23ndtWOIRXQgaK5', name='extract_result', type='function_call', id='fc_68029ad722008192a4ed39fe9cdd8eb20aba9d81e2a1b977', status='completed')\n",
      "Response from extract_result: {'Result': 'На прошлом месте работы кандидат проявил инициативу для улучшения клиентского сервиса, заметив проблему с задержкой ответов на заявки. Он предложил создать дежурного по заявкам, собрал статистику, разработал план и помог внедрить новую практику, что привело к снижению количества просрочек на 80%.'}\n",
      "Tool call: ResponseFunctionToolCall(arguments='{\"Task\":\"Создать дежурного по клиентским заявкам, чтобы снизить количество просрочек ответов на заявки клиентов.\"}', call_id='call_L9rbmfdXTKjPBSc9TuywUHn5', name='extract_task', type='function_call', id='fc_68029ad8fd8081929c21f44059d2e6af0f1727df78e47a10', status='completed')\n",
      "Response from extract_task: {'Task': 'Создать дежурного по клиентским заявкам, чтобы снизить количество просрочек ответов на заявки клиентов.'}\n",
      "Tool call: ResponseFunctionToolCall(arguments='{\"Action\":\"Предложил создать дежурного по клиентским заявкам, собрал статистику, предложил план, внедрил практику дежурства по заявкам, что снизило количество просрочек на 80%.\"}', call_id='call_oN3uWOVIxW3PQYSguzRqWsi7', name='extract_action', type='function_call', id='fc_68029ada985881929cab7d45b0177103041145f7cb0bc115', status='completed')\n",
      "Response from extract_action: {'Action': 'Предложил создать дежурного по клиентским заявкам, собрал статистику, предложил план, внедрил практику дежурства по заявкам, что снизило количество просрочек на 80%.'}\n",
      "Tool call: ResponseFunctionToolCall(arguments='{\"Result\":\"Предложение и внедрение практики дежурного по клиентским заявкам, что привело к снижению количества просрочек ответов на заявки на 80%.\"}', call_id='call_1E3RcWNGy26EIyM6CUj2xGBf', name='extract_result', type='function_call', id='fc_68029add01a48192bde07f6079a68f520e480d05143e6713', status='completed')\n",
      "Response from extract_result: {'Result': 'Предложение и внедрение практики дежурного по клиентским заявкам, что привело к снижению количества просрочек ответов на заявки на 80%.'}\n",
      "Tool call: ResponseFunctionToolCall(arguments='{\"Situation\":\"На прошлом месте работы я заметил, что некоторые клиенты не получали ответов на заявки в течение суток.\"}', call_id='call_jMwrghrkN131DNfYDgbHV39z', name='extract_situation', type='function_call', id='fc_68029adf34dc8192bace2efbf24ef4900d2aa2deed7d1c3b', status='completed')\n",
      "Response from extract_situation: {'Situation': 'На прошлом месте работы я заметил, что некоторые клиенты не получали ответов на заявки в течение суток.'}\n",
      "Tool call: ResponseFunctionToolCall(arguments='{\"Situation\":\"На прошлом месте работы я заметил, что некоторые клиенты не получали ответов на заявки в течение суток.\"}', call_id='call_GbYAL6ErdJD73W0GaaXlCwlt', name='extract_situation', type='function_call', id='fc_68029ae0a3e88192bcb42404cc377d1c0db79df5b14c10f8', status='completed')\n",
      "Response from extract_situation: {'Situation': 'На прошлом месте работы я заметил, что некоторые клиенты не получали ответов на заявки в течение суток.'}\n",
      "Tool call: ResponseFunctionToolCall(arguments='{\"Task\":\"Создание дежурного по клиентским заявкам для снижения количества просрочек ответов клиентам.\"}', call_id='call_0aQYhcpWruNKMI1axS7Ee2RH', name='extract_task', type='function_call', id='fc_68029ae1f9b08192aa20ca80cceaa79502222a85a77faf71', status='completed')\n",
      "Response from extract_task: {'Task': 'Создание дежурного по клиентским заявкам для снижения количества просрочек ответов клиентам.'}\n",
      "Tool call: ResponseFunctionToolCall(arguments='{\"Action\":\"Предложение создать дежурного по клиентским заявкам, сбор статистики, разработка и внедрение плана по улучшению обработки клиентских заявок, что привело к уменьшению просрочек на 80%.\"}', call_id='call_oNG0xuWmGPDM8msE5JkqN7vt', name='extract_action', type='function_call', id='fc_68029ae38a10819297ab3d1298351fe102818a1911992731', status='completed')\n",
      "Response from extract_action: {'Action': 'Предложение создать дежурного по клиентским заявкам, сбор статистики, разработка и внедрение плана по улучшению обработки клиентских заявок, что привело к уменьшению просрочек на 80%.'}\n",
      "Tool call: ResponseFunctionToolCall(arguments='{\"Task\":\"Предложить и внедрить дежурного по клиентским заявкам для сокращения количества просроченных ответов клиентам.\"}', call_id='call_nWvLkil0zI6zDarPXohVq3yK', name='extract_task', type='function_call', id='fc_68029ae94924819293d1e1e80e1415b707f56c89a3494938', status='completed')\n",
      "Response from extract_task: {'Task': 'Предложить и внедрить дежурного по клиентским заявкам для сокращения количества просроченных ответов клиентам.'}\n",
      "Tool call: ResponseFunctionToolCall(arguments='{\"Action\":\"Предложил создать дежурного по клиентским заявкам, собрал статистику, предложил план и внедрил практику дежурства, что позволило снизить количество просрочек на 80%.\"}', call_id='call_mMPYpnQxgOoFQmTNY0YOlacj', name='extract_action', type='function_call', id='fc_68029aeac2d08192af794c3116b2a84a054f61f4f8a68e56', status='completed')\n",
      "Response from extract_action: {'Action': 'Предложил создать дежурного по клиентским заявкам, собрал статистику, предложил план и внедрил практику дежурства, что позволило снизить количество просрочек на 80%.'}\n",
      "Tool call: ResponseFunctionToolCall(arguments='{\"Action\":\"Предложил создать дежурного по клиентским заявкам, собрал статистику, предложил план, внедрил практику дежурства для снижения просрочек в ответах клиентам.\"}', call_id='call_SWa25ax4bhMEM8OGjFiD19NX', name='extract_action', type='function_call', id='fc_68029aec69948192942fd40c7e1ffab0014ac4b286b65356', status='completed')\n",
      "Response from extract_action: {'Action': 'Предложил создать дежурного по клиентским заявкам, собрал статистику, предложил план, внедрил практику дежурства для снижения просрочек в ответах клиентам.'}\n",
      "Tool call: ResponseFunctionToolCall(arguments='{\"Result\":\"На прошлом месте работы кандидат заметил проблему с обработкой клиентских заявок и предложил решение — создать дежурного по заявкам. Он собрал статистику, предложил план и внедрил практику, что позволило снизить количество просрочек на 80%.\"}', call_id='call_HcpktnQz5MQ94RKnPdjR26GD', name='extract_result', type='function_call', id='fc_68029aee74a88192afc121c0bf4b339908ea767d21d970fa', status='completed')\n",
      "Response from extract_result: {'Result': 'На прошлом месте работы кандидат заметил проблему с обработкой клиентских заявок и предложил решение — создать дежурного по заявкам. Он собрал статистику, предложил план и внедрил практику, что позволило снизить количество просрочек на 80%.'}\n",
      "Tool call: ResponseFunctionToolCall(arguments='{\"Situation\":\"На прошлом месте работы я заметил, что некоторые клиенты не получали ответов на заявки в течение суток. Хотя это была не моя зона ответственности, я предложил в команде создать дежурного по клиентским заявкам.\"}', call_id='call_bA4Puw1zEtfCMebSsWBEdLfj', name='extract_situation', type='function_call', id='fc_68029af068548192892274dd999aef790ef686c2cff9cc11', status='completed')\n",
      "Response from extract_situation: {'Situation': 'На прошлом месте работы я заметил, что некоторые клиенты не получали ответов на заявки в течение суток. Хотя это была не моя зона ответственности, я предложил в команде создать дежурного по клиентским заявкам.'}\n",
      "Tool call: ResponseFunctionToolCall(arguments='{\"Task\":\"Создание практики дежурства по клиентским заявкам для снижения количества просроченных ответов.\"}', call_id='call_nEPTh93nfGf4AQYUbYyW0jJ4', name='extract_task', type='function_call', id='fc_68029af251148192b839c80dd093391a0473fb757e72fbc0', status='completed')\n",
      "Response from extract_task: {'Task': 'Создание практики дежурства по клиентским заявкам для снижения количества просроченных ответов.'}\n",
      "Tool call: ResponseFunctionToolCall(arguments='{\"Task\":\"Внедрить практику дежурства по клиентским заявкам для снижения количества просрочек ответов клиентам.\"}', call_id='call_ImcCMFx5uZUTBWWmKrDYNkA5', name='extract_task', type='function_call', id='fc_68029af3c9148192b0d693382101f6c60ba4b12368cc5401', status='completed')\n",
      "Response from extract_task: {'Task': 'Внедрить практику дежурства по клиентским заявкам для снижения количества просрочек ответов клиентам.'}\n",
      "Tool call: ResponseFunctionToolCall(arguments='{\"Result\":\"Предложение и внедрение практики дежурного по клиентским заявкам, что привело к снижению количества просрочек ответов клиентам на заявки на 80%.\"}', call_id='call_pyY42JhXgbCMiQSGYOleJiaB', name='extract_result', type='function_call', id='fc_68029af535f88192b0c2e077cd23e14c060e422136607b69', status='completed')\n",
      "Response from extract_result: {'Result': 'Предложение и внедрение практики дежурного по клиентским заявкам, что привело к снижению количества просрочек ответов клиентам на заявки на 80%.'}\n",
      "Tool call: ResponseFunctionToolCall(arguments='{\"Situation\":\"На прошлом месте работы были клиенты, которые не получали ответов на заявки в течение суток.\"}', call_id='call_d20gqYf6QmnruGzEnnxGCx66', name='extract_situation', type='function_call', id='fc_68029af6f008819293cc3a646fad056607e7906ecb0b1e89', status='completed')\n",
      "Response from extract_situation: {'Situation': 'На прошлом месте работы были клиенты, которые не получали ответов на заявки в течение суток.'}\n",
      "Tool call: ResponseFunctionToolCall(arguments='{\"Action\":\"Предложил создать дежурного по клиентским заявкам, собрал статистику, предложил план и внедрил практику дежурства, что снизило количество просрочек на 80%.\"}', call_id='call_fVZ1zEHw8FIErgAtCDjwgDIs', name='extract_action', type='function_call', id='fc_68029af84c9881928c68f0d64a78a70d0f54d36def0968a4', status='completed')\n",
      "Response from extract_action: {'Action': 'Предложил создать дежурного по клиентским заявкам, собрал статистику, предложил план и внедрил практику дежурства, что снизило количество просрочек на 80%.'}\n",
      "Tool call: ResponseFunctionToolCall(arguments='{\"Task\":\"Создать дежурного по клиентским заявкам, чтобы снизить количество просрочек с ответами клиентам.\"}', call_id='call_sJ1tWBVcitu3NGjTU18oVMBM', name='extract_task', type='function_call', id='fc_68029af9de708192982aa54b761c210708007afd49050600', status='completed')\n",
      "Response from extract_task: {'Task': 'Создать дежурного по клиентским заявкам, чтобы снизить количество просрочек с ответами клиентам.'}\n",
      "Tool call: ResponseFunctionToolCall(arguments='{\"Action\":\"Предложил в команде создать дежурного по клиентским заявкам; Собрал статистику; Предложил план; Внедрили практику дежурства по заявкам; Снизилось количество просрочек на 80%.\"}', call_id='call_bNK6RGRwoLyoaOklHIc97mPx', name='extract_action', type='function_call', id='fc_68029afb5048819298bc1a49a7b8de4d023ba7232082315a', status='completed')\n",
      "Response from extract_action: {'Action': 'Предложил в команде создать дежурного по клиентским заявкам; Собрал статистику; Предложил план; Внедрили практику дежурства по заявкам; Снизилось количество просрочек на 80%.'}\n",
      "Tool call: ResponseFunctionToolCall(arguments='{\"Action\":\"Предложил в команде создать дежурного по клиентским заявкам; собрал статистику; предложил план; внедрил практику дежурства по заявкам; снизил количество просрочек на 80%.\"}', call_id='call_aNur1TKXS7LQ9ghWutsDjaaE', name='extract_action', type='function_call', id='fc_68029afd2d28819287ad60e039a0c7f40b0ec9b5f3d13557', status='completed')\n",
      "Response from extract_action: {'Action': 'Предложил в команде создать дежурного по клиентским заявкам; собрал статистику; предложил план; внедрил практику дежурства по заявкам; снизил количество просрочек на 80%.'}\n",
      "Tool call: ResponseFunctionToolCall(arguments='{\"Result\":\"На прошлом месте работы кандидат выявил проблему с задержкой ответов на клиентские заявки, предложил и внедрил в команде роль дежурного по заявкам, что снизило количество просрочек на 80%.\"}', call_id='call_lkJ3h9iS6ImStcmK7P3nwnTm', name='extract_result', type='function_call', id='fc_68029aff21ac81929cfaa667bc0917fc02d858fea32d3748', status='completed')\n",
      "Response from extract_result: {'Result': 'На прошлом месте работы кандидат выявил проблему с задержкой ответов на клиентские заявки, предложил и внедрил в команде роль дежурного по заявкам, что снизило количество просрочек на 80%.'}\n",
      "Tool call: ResponseFunctionToolCall(arguments='{\"Result\":\"На прошлом месте работы наблюдалась проблема с задержками ответов клиентам на заявки, не в формате прямой зоны ответственности пользователя. Пользователь проявил инициативу, предложив внедрить дежурного по клиентским заявкам, собрал статистику, разработал план, который был принят и реализован. В результате количество просроченных ответов сократилось на 80%.\"}', call_id='call_G15xztBPdkXEvOwCI4m8RxFg', name='extract_result', type='function_call', id='fc_68029b0177a48192838138a1b36df58e08143a9702640e0b', status='completed')\n",
      "Response from extract_result: {'Result': 'На прошлом месте работы наблюдалась проблема с задержками ответов клиентам на заявки, не в формате прямой зоны ответственности пользователя. Пользователь проявил инициативу, предложив внедрить дежурного по клиентским заявкам, собрал статистику, разработал план, который был принят и реализован. В результате количество просроченных ответов сократилось на 80%.'}\n",
      "Tool call: ResponseFunctionToolCall(arguments='{\"Situation\":\"На прошлом месте работы я заметил, что некоторые клиенты не получали ответы на заявки в течение суток.\"}', call_id='call_3MvwQR76hht5b5hoFAKVwVxZ', name='extract_situation', type='function_call', id='fc_68029b03b3a88192b3433b610b7894290c32e599e453105c', status='completed')\n",
      "Response from extract_situation: {'Situation': 'На прошлом месте работы я заметил, что некоторые клиенты не получали ответы на заявки в течение суток.'}\n",
      "Tool call: ResponseFunctionToolCall(arguments='{\"Task\":\"Создать дежурного по клиентским заявкам для оперативного ответа и снижение количества просрочек обработки заявок.\"}', call_id='call_8xhaFIG4v1JjlL78oui5Oe5Z', name='extract_task', type='function_call', id='fc_68029b0543ac8192af362f2017c167cc01952a3cb69a74f1', status='completed')\n",
      "Response from extract_task: {'Task': 'Создать дежурного по клиентским заявкам для оперативного ответа и снижение количества просрочек обработки заявок.'}\n",
      "Tool call: ResponseFunctionToolCall(arguments='{\"Result\":\"Предложил создать дежурного по клиентским заявкам для уменьшения просрочек ответов, собрал статистику и внедрил план, что позволило снизить количество просрочек на 80%.\"}', call_id='call_dMv6jMPYldXkh2kyPUJfv3EZ', name='extract_result', type='function_call', id='fc_68029b06c84c8192bf43199fff69ece502d871f8f720e47d', status='completed')\n",
      "Response from extract_result: {'Result': 'Предложил создать дежурного по клиентским заявкам для уменьшения просрочек ответов, собрал статистику и внедрил план, что позволило снизить количество просрочек на 80%.'}\n",
      "Tool call: ResponseFunctionToolCall(arguments='{\"Situation\":\"На прошлом месте работы я заметил, что некоторые клиенты не получали ответов на заявки в течение суток.\"}', call_id='call_WUGMWl2Zj2hZWep1D02fbPRV', name='extract_situation', type='function_call', id='fc_68029b0880248192af235915fb93552e07131b812a0b8877', status='completed')\n",
      "Response from extract_situation: {'Situation': 'На прошлом месте работы я заметил, что некоторые клиенты не получали ответов на заявки в течение суток.'}\n",
      "Tool call: ResponseFunctionToolCall(arguments='{\"Task\":\"Создание дежурного по клиентским заявкам для снижения количества просрочек в ответах на заявки клиентов.\"}', call_id='call_Gvj87XEjxj9MSlGJEf1qQfHv', name='extract_task', type='function_call', id='fc_68029b09d7388192a845c2f90dead53e087eb131964df89f', status='completed')\n",
      "Response from extract_task: {'Task': 'Создание дежурного по клиентским заявкам для снижения количества просрочек в ответах на заявки клиентов.'}\n",
      "Tool call: ResponseFunctionToolCall(arguments='{\"Action\":\"Предложил в команде создать дежурного по клиентским заявкам, собрал статистику, предложил план, внедрили практику дежурства по заявкам.\"}', call_id='call_BntecAPSQY1zrIcETTkRkxut', name='extract_action', type='function_call', id='fc_68029b0b48088192824bc1a7a75885920fbbd119547b5fe8', status='completed')\n",
      "Response from extract_action: {'Action': 'Предложил в команде создать дежурного по клиентским заявкам, собрал статистику, предложил план, внедрили практику дежурства по заявкам.'}\n",
      "Tool call: ResponseFunctionToolCall(arguments='{\"Result\":\"Предложение и внедрение дежурного по клиентским заявкам, что привело к снижению количества просрочек на 80%.\"}', call_id='call_sp86Y5HpGUOFTgwi83CGGlx6', name='extract_result', type='function_call', id='fc_68029b0cde8881929c369444b282f14d0f688a89a9be91e2', status='completed')\n",
      "Response from extract_result: {'Result': 'Предложение и внедрение дежурного по клиентским заявкам, что привело к снижению количества просрочек на 80%.'}\n",
      "Tool call: ResponseFunctionToolCall(arguments='{\"Situation\":\"На прошлом месте работы некоторые клиенты не получали ответы на заявки в течение суток.\"}', call_id='call_e0oWXI1VbLe2f1G0MPtRDhoj', name='extract_situation', type='function_call', id='fc_68029b0e579881929016f1ded4eb08e7072ba478f711e863', status='completed')\n",
      "Response from extract_situation: {'Situation': 'На прошлом месте работы некоторые клиенты не получали ответы на заявки в течение суток.'}\n",
      "Tool call: ResponseFunctionToolCall(arguments='{\"Task\":\"Создать практику дежурства по клиентским заявкам, чтобы снизить количество просроченных ответов на заявки.\"}', call_id='call_JN2JCafYvoqhBcXyEpAyXk1X', name='extract_task', type='function_call', id='fc_68029b0fedd88192b7acd6969e62ddbe008f46d5c439bd2c', status='completed')\n",
      "Response from extract_task: {'Task': 'Создать практику дежурства по клиентским заявкам, чтобы снизить количество просроченных ответов на заявки.'}\n",
      "Tool call: ResponseFunctionToolCall(arguments='{\"Action\":\"Предложил создать дежурного по клиентским заявкам, собрал статистику, предложил план и внедрил практику для снижения количества просрочек ответов клиентам.\"}', call_id='call_kVsJFcdDu38mr3YXY59dTLO1', name='extract_action', type='function_call', id='fc_68029b118420819283c41fe304e054c40358032a9c004233', status='completed')\n",
      "Response from extract_action: {'Action': 'Предложил создать дежурного по клиентским заявкам, собрал статистику, предложил план и внедрил практику для снижения количества просрочек ответов клиентам.'}\n",
      "Tool call: ResponseFunctionToolCall(arguments='{\"Action\":\"Предложил в команде создать дежурного по клиентским заявкам, собрал статистику, предложил план, и внедрил практику дежурного для снижения количества просрочек в ответах на заявки клиентов.\"}', call_id='call_YPoevomY26wMha7X6Wc4LqH5', name='extract_action', type='function_call', id='fc_68029b133dc081929622731024b957b40a5e6c0b31cf6eea', status='completed')\n",
      "Response from extract_action: {'Action': 'Предложил в команде создать дежурного по клиентским заявкам, собрал статистику, предложил план, и внедрил практику дежурного для снижения количества просрочек в ответах на заявки клиентов.'}\n",
      "Tool call: ResponseFunctionToolCall(arguments='{\"Result\":\"Инициатива пользователя по созданию дежурного по клиентским заявкам привела к снижению количества просрочек ответов клиентам на 80%, что значительно улучшило качество обслуживания.\"}', call_id='call_MxRS3fWeXwqoiHp4ISYZRyyQ', name='extract_result', type='function_call', id='fc_68029b150da481928c9c80622498fb290c7b1065ce033f90', status='completed')\n",
      "Response from extract_result: {'Result': 'Инициатива пользователя по созданию дежурного по клиентским заявкам привела к снижению количества просрочек ответов клиентам на 80%, что значительно улучшило качество обслуживания.'}\n",
      "Tool call: ResponseFunctionToolCall(arguments='{\"Result\":\"Соискатель заметил проблему с обработкой клиентских заявок вне своей зоны ответственности, предложил и внедрил решение — дежурного по заявкам, что снизило количество просрочек на 80%.\"}', call_id='call_TzAXtdDEizqnkdnVUVzpR0jx', name='extract_result', type='function_call', id='fc_68029b1749f48192a28fce404baed1b00e59e2199ddd09c8', status='completed')\n",
      "Response from extract_result: {'Result': 'Соискатель заметил проблему с обработкой клиентских заявок вне своей зоны ответственности, предложил и внедрил решение — дежурного по заявкам, что снизило количество просрочек на 80%.'}\n",
      "Tool call: ResponseFunctionToolCall(arguments='{\"Situation\":\"На прошлом месте работы обнаружена проблема с тем, что некоторые клиенты не получали ответы на заявки в течение суток.\"}', call_id='call_p1TKTwoKj3qDHM10R7VVLZde', name='extract_situation', type='function_call', id='fc_68029b1baedc8192a7b2bd0c678c25970e6da13c0f7700db', status='completed')\n",
      "Response from extract_situation: {'Situation': 'На прошлом месте работы обнаружена проблема с тем, что некоторые клиенты не получали ответы на заявки в течение суток.'}\n",
      "Tool call: ResponseFunctionToolCall(arguments='{\"Task\":\"Создать дежурного по клиентским заявкам для уменьшения количества просрочек ответов клиентам.\"}', call_id='call_x4Dmgj9EfeXRXiBIaxVhnf1G', name='extract_task', type='function_call', id='fc_68029b1d141c8192b2f8559e6d3447cf0e54ab8547ff8e00', status='completed')\n",
      "Response from extract_task: {'Task': 'Создать дежурного по клиентским заявкам для уменьшения количества просрочек ответов клиентам.'}\n",
      "Tool call: ResponseFunctionToolCall(arguments='{\"Result\":\"Предложил и внедрил в команде практику дежурного по клиентским заявкам, что снизило количество просрочек на 80%.\"}', call_id='call_nvxP20JK6Xi3qiUwgQCGJtK1', name='extract_result', type='function_call', id='fc_68029b1e913c81928772d2589f9a2c6c01e948329315918d', status='completed')\n",
      "Response from extract_result: {'Result': 'Предложил и внедрил в команде практику дежурного по клиентским заявкам, что снизило количество просрочек на 80%.'}\n",
      "Tool call: ResponseFunctionToolCall(arguments='{\"Situation\":\"На прошлом месте работы клиенты не получали ответы на заявки в течение суток, что приводило к задержкам в обработке запросов.\"}', call_id='call_s4DgL95D8OqCvrl3prrpydAA', name='extract_situation', type='function_call', id='fc_68029b202e408192a6a0a0e3a7dec7a80d5f73b625b71c67', status='completed')\n",
      "Response from extract_situation: {'Situation': 'На прошлом месте работы клиенты не получали ответы на заявки в течение суток, что приводило к задержкам в обработке запросов.'}\n",
      "Tool call: ResponseFunctionToolCall(arguments='{\"Task\":\"Выявить проблему с ответами клиентам на заявки в течение суток, предложить и внедрить решение по дежурству для снижения количества просрочек ответов.\"}', call_id='call_lygYET4wD6V8A0MZ9qzIMpr4', name='extract_task', type='function_call', id='fc_68029b21779c8192a60d85bd1e92a93f031d0f8e5cd125fa', status='completed')\n",
      "Response from extract_task: {'Task': 'Выявить проблему с ответами клиентам на заявки в течение суток, предложить и внедрить решение по дежурству для снижения количества просрочек ответов.'}\n",
      "Tool call: ResponseFunctionToolCall(arguments='{\"Action\":\"Предложил создать дежурного по клиентским заявкам, собрал статистику, предложил план, внедрил практику дежурства для уменьшения количества просрочек ответов клиентам.\"}', call_id='call_vGj6E1gKrAfSsWJF9eLd1JTa', name='extract_action', type='function_call', id='fc_68029b22fd68819289f7a6562eb1f0c206b5c807f2110540', status='completed')\n",
      "Response from extract_action: {'Action': 'Предложил создать дежурного по клиентским заявкам, собрал статистику, предложил план, внедрил практику дежурства для уменьшения количества просрочек ответов клиентам.'}\n",
      "Tool call: ResponseFunctionToolCall(arguments='{\"Action\":\"Предложил в команде создать дежурного по клиентским заявкам; собрал статистику; предложил план; внедрил практику дежурства по клиентским заявкам\"}', call_id='call_wyFNuB0qzpXPeiqbQZgYoU8j', name='extract_action', type='function_call', id='fc_68029b24d6908192b754821f828737cc06f39b27758db6f0', status='completed')\n",
      "Response from extract_action: {'Action': 'Предложил в команде создать дежурного по клиентским заявкам; собрал статистику; предложил план; внедрил практику дежурства по клиентским заявкам'}\n",
      "Tool call: ResponseFunctionToolCall(arguments='{\"Result\":\"Инициатива создания дежурного по клиентским заявкам, сбор статистики и внедрение новой практики привели к снижению количества просроченных ответов на заявки на 80%.\"}', call_id='call_WiAHG1VYx6TVsF9m2cL9LwY9', name='extract_result', type='function_call', id='fc_68029b2739b481928a2382f3031f0f04080e27db0c9258d3', status='completed')\n",
      "Response from extract_result: {'Result': 'Инициатива создания дежурного по клиентским заявкам, сбор статистики и внедрение новой практики привели к снижению количества просроченных ответов на заявки на 80%.'}\n",
      "Tool call: ResponseFunctionToolCall(arguments='{\"Result\":\"Предложил и внедрил практику дежурного по клиентским заявкам, что снизило количество просрочек ответов на заявки на 80%.\"}', call_id='call_vju4vY4lp76euKKgMbC7tWaf', name='extract_result', type='function_call', id='fc_68029b29596c819282e0f7f7dc74664c0ea22aaffeb296d9', status='completed')\n",
      "Response from extract_result: {'Result': 'Предложил и внедрил практику дежурного по клиентским заявкам, что снизило количество просрочек ответов на заявки на 80%.'}\n",
      "Tool call: ResponseFunctionToolCall(arguments='{\"Situation\":\"На прошлом месте работы я заметил, что некоторые клиенты не получали ответов на заявки в течение суток.\"}', call_id='call_FcpLebAeI2i7456SMTawb4nP', name='extract_situation', type='function_call', id='fc_68029b2b44d48192b34fde6bfa6868eb0b714182bf38de2b', status='completed')\n",
      "Response from extract_situation: {'Situation': 'На прошлом месте работы я заметил, что некоторые клиенты не получали ответов на заявки в течение суток.'}\n",
      "Tool call: ResponseFunctionToolCall(arguments='{\"Task\":\"Обеспечить своевременный ответ клиентам на заявки, предложив внедрить дежурную систему по клиентским заявкам, чтобы снизить количество просрочек.\"}', call_id='call_UDqjOvwUzbK47WWgKzNwCyoc', name='extract_task', type='function_call', id='fc_68029b2cc6088192825a5eb6863ee825006bff68506ac3e2', status='completed')\n",
      "Response from extract_task: {'Task': 'Обеспечить своевременный ответ клиентам на заявки, предложив внедрить дежурную систему по клиентским заявкам, чтобы снизить количество просрочек.'}\n",
      "Tool call: ResponseFunctionToolCall(arguments='{\"Result\":\"Инициатива кандидата по созданию дежурного по клиентским заявкам привела к снижению количества просрочек ответов на заявки на 80%.\"}', call_id='call_TPURpn10CkXalfPRhzqbDoUi', name='extract_result', type='function_call', id='fc_68029b2e8f848192acc8a51e7f866de80bf4d615a9440c98', status='completed')\n",
      "Response from extract_result: {'Result': 'Инициатива кандидата по созданию дежурного по клиентским заявкам привела к снижению количества просрочек ответов на заявки на 80%.'}\n",
      "Tool call: ResponseFunctionToolCall(arguments='{\"Situation\":\"На прошлом месте работы я заметил, что некоторые клиенты не получали ответов на заявки в течение суток.\"}', call_id='call_no8CONK3TfrdmJpNXkCXD3JM', name='extract_situation', type='function_call', id='fc_68029b302df88192a8719b89eef15a1f0dd9d54aa5b77196', status='completed')\n",
      "Response from extract_situation: {'Situation': 'На прошлом месте работы я заметил, что некоторые клиенты не получали ответов на заявки в течение суток.'}\n",
      "Tool call: ResponseFunctionToolCall(arguments='{\"Task\":\"Создание системы дежурства по клиентским заявкам для своевременного ответа и снижения количества просрочек.\"}', call_id='call_8I0qJ5PEHFtC5H3PRTCGKzIN', name='extract_task', type='function_call', id='fc_68029b36e5988192988993b583e403da07db1169d406209e', status='completed')\n",
      "Response from extract_task: {'Task': 'Создание системы дежурства по клиентским заявкам для своевременного ответа и снижения количества просрочек.'}\n",
      "Tool call: ResponseFunctionToolCall(arguments='{\"Action\":\"Предложить в команде создать дежурного по клиентским заявкам, собрать статистику, предложить план и внедрить практику дежурства для снижения просрочек ответов клиентам.\"}', call_id='call_BgtBdmcdvLtNmhnfYkGk2Hxz', name='extract_action', type='function_call', id='fc_68029b3bf06c81928cceea77dd4af5e209dc7e00abf50172', status='completed')\n",
      "Response from extract_action: {'Action': 'Предложить в команде создать дежурного по клиентским заявкам, собрать статистику, предложить план и внедрить практику дежурства для снижения просрочек ответов клиентам.'}\n",
      "Situation='На прошлом месте работы я заметил, что некоторые клиенты не получали ответов на заявки в течение суток.' Task='Создать практику дежурства по клиентским заявкам для снижения количества просроченных ответов.' Action='Предложил создать дежурного по клиентским заявкам, собрал статистику, предложил план и внедрил практику дежурного для снижения количества просрочек в ответах на заявки клиентов.' Result='Предложение и внедрение практики дежурного по клиентским заявкам привели к снижению количества просрочек на 80%.'\n"
     ]
    }
   ],
   "source": [
    "from app.agents.evaluation_agent import create_evaluation_agent\n",
    "from app.agents.prompt_builder import render_star_prompt\n",
    "from agents import Runner\n",
    "\n",
    "# Пример ответа\n",
    "answer = \"\"\"\n",
    "На прошлом месте работы я заметил, что некоторые клиенты не получали ответов на заявки в течение суток.\n",
    "Хотя это была не моя зона ответственности, я предложил в команде создать дежурного по клиентским заявкам.\n",
    "Я собрал статистику, предложил план, и мы внедрили эту практику. Количество просрочек снизилось на 80%.\n",
    "\"\"\"\n",
    "\n",
    "prompt = render_star_prompt(answer, skill=\"инициативность\")\n",
    "agent = create_evaluation_agent(prompt)\n",
    "\n",
    "result = await Runner.run(agent, \"Проанализируй ответ по STAR\")\n",
    "print(result.final_output)\n",
    "\n"
   ]
  },
  {
   "cell_type": "code",
   "execution_count": 9,
   "id": "2c92a6da",
   "metadata": {},
   "outputs": [
    {
     "name": "stdout",
     "output_type": "stream",
     "text": [
      "Tool call: ResponseFunctionToolCall(arguments='{\"Situation\":\"В команде произошёл конфликт между аналитиком и разработчиком из-за сроков. Я выступил медиатором, собрал обе стороны, мы разобрали ожидания и договорились о более гибком подходе к планированию. В результате удалось сохранить атмосферу в команде и не сорвать релиз.\"}', call_id='call_e4b49RIitYHMF46Y2BThuEdX', name='extract_situation', type='function_call', id='fc_680297f94eac81929fdfc0be1dd2dbc801cc2df4f4cfe9e6', status='completed')\n",
      "Response from extract_situation: {'Situation': 'В команде произошёл конфликт между аналитиком и разработчиком из-за сроков. Я выступил медиатором, собрал обе стороны, мы разобрали ожидания и договорились о более гибком подходе к планированию. В результате удалось сохранить атмосферу в команде и не сорвать релиз.'}\n",
      "Tool call: ResponseFunctionToolCall(arguments='{\"Task\":\"Разрешение конфликта между аналитиком и разработчиком из-за сроков, с целью сохранить атмосферу в команде и не сорвать релиз.\"}', call_id='call_ZyhR57HSaX7FMUcExyiePJJC', name='extract_task', type='function_call', id='fc_680297fc313881929979d1637f3300a006ad4a5301139c6d', status='completed')\n",
      "Response from extract_task: {'Task': 'Разрешение конфликта между аналитиком и разработчиком из-за сроков, с целью сохранить атмосферу в команде и не сорвать релиз.'}\n",
      "Tool call: ResponseFunctionToolCall(arguments='{\"Action\":\"Выступил медиатором, собрал обе стороны, разобрали ожидания и договорились о более гибном подходе к планированию.\"}', call_id='call_2IK8mKackcxjzIcnydg2rFz5', name='extract_action', type='function_call', id='fc_680297fd9440819282cad68f636a8f070251153f6b67aff3', status='completed')\n",
      "Response from extract_action: {'Action': 'Выступил медиатором, собрал обе стороны, разобрали ожидания и договорились о более гибном подходе к планированию.'}\n",
      "Tool call: ResponseFunctionToolCall(arguments='{\"Result\":\"Вы выступили как медиатор, собрали конфликтующие стороны, разобрали ожидания и договорились о более гибком подходе к планированию, что позволило сохранить атмосферу в команде и не сорвать релиз.\"}', call_id='call_2xKno6mpVLpCTz9bUJYZ98sV', name='extract_result', type='function_call', id='fc_680297ff730c81928f113a94424dfa76039acb0703084b13', status='completed')\n",
      "Response from extract_result: {'Result': 'Вы выступили как медиатор, собрали конфликтующие стороны, разобрали ожидания и договорились о более гибком подходе к планированию, что позволило сохранить атмосферу в команде и не сорвать релиз.'}\n",
      "=== STAR-анализ ===\n",
      "Situation='В команде произошёл конфликт между аналитиком и разработчиком из-за сроков.' Task='Разрешение конфликта между аналитиком и разработчиком, чтобы сохранить атмосферу в команде и не сорвать релиз.' Action='Выступил медиатором, собрал обе стороны, разобрали ожидания и договорились о более гибком подходе к планированию.' Result='Удалось сохранить атмосферу в команде и не сорвать релиз.'\n",
      "\n",
      "=== Автоматический фидбек ===\n",
      "Ответ кандидата содержит пробелы по компетенции 'работа в команде':\n",
      "- Не указана конкретная задача или цель.\n"
     ]
    }
   ],
   "source": [
    "from app.agents.evaluation_agent import create_evaluation_agent, generate_feedback\n",
    "from app.agents.prompt_builder import render_star_prompt\n",
    "from agents import Runner\n",
    "\n",
    "# 1. Ответ кандидата (можно подставить любой свой)\n",
    "answer = \"\"\"\n",
    "В команде произошёл конфликт между аналитиком и разработчиком из-за сроков. \n",
    "Я выступил медиатором, собрал обе стороны, мы разобрали ожидания и договорились о более гибком подходе к планированию. \n",
    "В результате удалось сохранить атмосферу в команде и не сорвать релиз.\n",
    "\"\"\"\n",
    "\n",
    "# 2. Компетенция, по которой оцениваем\n",
    "skill = \"работа в команде\"\n",
    "\n",
    "# 3. Формируем system prompt\n",
    "system_prompt = render_star_prompt(answer, skill)\n",
    "\n",
    "# 4. Создаём агента\n",
    "agent = create_evaluation_agent(system_prompt)\n",
    "\n",
    "# 5. Запускаем STAR-анализ\n",
    "result = await Runner.run(agent, \"Проанализируй ответ по STAR\")\n",
    "\n",
    "# 6. Извлекаем результат\n",
    "from app.agents.evaluation_agent import STAROutput\n",
    "\n",
    "# 6. Извлекаем результат\n",
    "star_output = result.final_output  # ← это уже STAROutput\n",
    "feedback = generate_feedback(star_output, skill)\n",
    "\n",
    "# 7. Печатаем всё\n",
    "print(\"=== STAR-анализ ===\")\n",
    "print(star_output)\n",
    "\n",
    "print(\"\\n=== Автоматический фидбек ===\")\n",
    "print(feedback)\n",
    "\n",
    "\n",
    "\n"
   ]
  },
  {
   "cell_type": "code",
   "execution_count": null,
   "id": "cc57939e",
   "metadata": {},
   "outputs": [
    {
     "name": "stdout",
     "output_type": "stream",
     "text": [
      "<class 'app.agents.tools.ask_hr_question.CustomTool'>\n",
      "True\n",
      "А теперь у меня вопрос к вам как к работодателю: Я слышал, что были сокращения на рынке. Это как-то отразилось на вас?\n"
     ]
    }
   ],
   "source": [
    "from app.agents.tools.ask_hr_question import ask_hr_question\n",
    "print(type(ask_hr_question))\n",
    "print(hasattr(ask_hr_question, \"run\"))\n",
    "print(ask_hr_question.run())"
   ]
  },
  {
   "cell_type": "code",
   "execution_count": 8,
   "id": "0cd2ddda",
   "metadata": {},
   "outputs": [
    {
     "name": "stdout",
     "output_type": "stream",
     "text": [
      "Конфликты с коллегами... ну, кто их не имеет? Обычно стараюсь выслушать обе стороны. Ведь слушать — это уже половина успеха. Настраиваю всех на общий интерес, чтобы работали на одну цель, а не только топили за свои жалобы. Если простыми словами — пытаюсь придумывать решения, а не просто сыпать обвинениями.\n",
      "\n",
      "Был, например, случай. Спорили из-за задач, и я предложил сесть и распределить всё по полочкам. Выяснили, кто сильнее в чём, и успешно закончили проект. Всё просто как дважды два. Хочешь, расскажу, как это на деле бывает?\n"
     ]
    },
    {
     "ename": "AttributeError",
     "evalue": "'FunctionTool' object has no attribute 'run'",
     "output_type": "error",
     "traceback": [
      "\u001b[0;31m---------------------------------------------------------------------------\u001b[0m",
      "\u001b[0;31mAttributeError\u001b[0m                            Traceback (most recent call last)",
      "Cell \u001b[0;32mIn[8], line 12\u001b[0m\n\u001b[1;32m      9\u001b[0m \u001b[38;5;28mprint\u001b[39m(result\u001b[38;5;241m.\u001b[39mfinal_output)\n\u001b[1;32m     11\u001b[0m \u001b[38;5;66;03m# Теперь — вопрос кандидата HR'у\u001b[39;00m\n\u001b[0;32m---> 12\u001b[0m question_to_hr \u001b[38;5;241m=\u001b[39m \u001b[43mask_hr_question\u001b[49m\u001b[38;5;241;43m.\u001b[39;49m\u001b[43mrun\u001b[49m()\n\u001b[1;32m     13\u001b[0m \u001b[38;5;28mprint\u001b[39m(\u001b[38;5;124m\"\u001b[39m\u001b[38;5;130;01m\\n\u001b[39;00m\u001b[38;5;124m[Вопрос кандидата HR\u001b[39m\u001b[38;5;124m'\u001b[39m\u001b[38;5;124mу]\u001b[39m\u001b[38;5;124m\"\u001b[39m)\n\u001b[1;32m     14\u001b[0m \u001b[38;5;28mprint\u001b[39m(question_to_hr)\n",
      "\u001b[0;31mAttributeError\u001b[0m: 'FunctionTool' object has no attribute 'run'"
     ]
    }
   ],
   "source": [
    "#!!!\n",
    "from app.agents.interviewee_agent_new import create_interviewee_agent\n",
    "from agents import Runner\n",
    "\n",
    "agent = create_interviewee_agent(persona=\"toxic\", skill=\"работа в команде\")\n",
    "\n",
    "# HR задаёт вопрос кандидату\n",
    "result = await Runner.run(agent, \"Расскажи о конфликте с коллегами и как ты его решал.\")\n",
    "print(result.final_output)\n",
    "\n",
    "# Теперь — вопрос кандидата HR'у\n",
    "question_to_hr = ask_hr_question.run()\n",
    "print(\"\\n[Вопрос кандидата HR'у]\")\n",
    "print(question_to_hr)"
   ]
  },
  {
   "cell_type": "code",
   "execution_count": 5,
   "id": "f4cdaa51",
   "metadata": {},
   "outputs": [
    {
     "name": "stdout",
     "output_type": "stream",
     "text": [
      "True\n",
      "False\n"
     ]
    },
    {
     "ename": "AttributeError",
     "evalue": "'FunctionTool' object has no attribute 'run'",
     "output_type": "error",
     "traceback": [
      "\u001b[0;31m---------------------------------------------------------------------------\u001b[0m",
      "\u001b[0;31mAttributeError\u001b[0m                            Traceback (most recent call last)",
      "Cell \u001b[0;32mIn[5], line 5\u001b[0m\n\u001b[1;32m      3\u001b[0m \u001b[38;5;28mprint\u001b[39m(\u001b[38;5;28mhasattr\u001b[39m(ask_hr_question, \u001b[38;5;124m\"\u001b[39m\u001b[38;5;124mname\u001b[39m\u001b[38;5;124m\"\u001b[39m))  \u001b[38;5;66;03m# True\u001b[39;00m\n\u001b[1;32m      4\u001b[0m \u001b[38;5;28mprint\u001b[39m(\u001b[38;5;28mhasattr\u001b[39m(ask_hr_question, \u001b[38;5;124m\"\u001b[39m\u001b[38;5;124mrun\u001b[39m\u001b[38;5;124m\"\u001b[39m))   \u001b[38;5;66;03m# True\u001b[39;00m\n\u001b[0;32m----> 5\u001b[0m \u001b[38;5;28mprint\u001b[39m(\u001b[43mask_hr_question\u001b[49m\u001b[38;5;241;43m.\u001b[39;49m\u001b[43mrun\u001b[49m())   \n",
      "\u001b[0;31mAttributeError\u001b[0m: 'FunctionTool' object has no attribute 'run'"
     ]
    }
   ],
   "source": [
    "from app.agents.tools.ask_hr_question import ask_hr_question\n",
    "\n",
    "print(hasattr(ask_hr_question, \"name\"))  # True\n",
    "print(hasattr(ask_hr_question, \"run\"))   # True\n",
    "print(ask_hr_question.run())   \n"
   ]
  },
  {
   "cell_type": "code",
   "execution_count": 6,
   "id": "44eba547",
   "metadata": {},
   "outputs": [
    {
     "name": "stdout",
     "output_type": "stream",
     "text": [
      "О, опять этот шаблонный вопрос. Ну что ж, бывало, коллеги не понимали, чего я хочу, приходилось объяснять им как первоклассникам. В итоге, конечно, мы находили общий язык, но ты ведь понимаешь, насколько это утомительно, да? А про твой опыт расскажешь? У вас на работе много конфликты случаются?\n"
     ]
    }
   ],
   "source": [
    "from app.agents.interviewee_agent_new import create_interviewee_agent\n",
    "from agents import Runner\n",
    "\n",
    "agent = create_interviewee_agent(persona=\"toxic\", skill=\"работа в команде\")\n",
    "result = await Runner.run(agent, \"Расскажи о конфликте с коллегами и как ты его решал.\")\n",
    "print(result.final_output)"
   ]
  },
  {
   "cell_type": "code",
   "execution_count": 6,
   "id": "b1fa9090",
   "metadata": {},
   "outputs": [
    {
     "name": "stdout",
     "output_type": "stream",
     "text": [
      "conclusion='Соответствует' explanation='Кандидат проявил проактивность, выявив проблему с путаницей в задачах и предложив решение в виде Kanban-доски. Он также взял инициативу на себя, организовав обучение для команды. Такие действия демонстрируют фокус на улучшениях и инициативность, что соответствует корпоративной ценности проактивности.'\n"
     ]
    }
   ],
   "source": [
    "from app.agents.value_agent import create_value_agent\n",
    "from app.agents.prompt_builder import render_value_prompt\n",
    "from agents import Runner\n",
    "\n",
    "answer = \"\"\"\n",
    "Я увидел, что коллеги часто путаются в задачах, поэтому предложил ввести Kanban-доску и провёл обучение. \n",
    "Теперь команда лучше понимает приоритеты.\n",
    "\"\"\"\n",
    "\n",
    "value_name = \"proactivity\"  # ← имя YAML-файла без .yaml\n",
    "\n",
    "system_prompt = render_value_prompt(value_name, answer)\n",
    "agent = create_value_agent(system_prompt)\n",
    "\n",
    "result = await Runner.run(agent, \"Проанализируй ответ по корпоративной ценности\")\n",
    "print(result.final_output)\n"
   ]
  },
  {
   "cell_type": "code",
   "execution_count": 15,
   "id": "479b104d",
   "metadata": {},
   "outputs": [
    {
     "name": "stdout",
     "output_type": "stream",
     "text": [
      "=== Ответ кандидата ===\n",
      "Ну, даже не знаю... Вроде был случай с проектом... очень много всего нужно было сделать... Хм, я пытался планировать задачи и, наверное, просто старался спокойно работать. Думаю, мы успели вовремя. Было непросто, но как-то справились...\n",
      "Response from extract_situation: Error generating response: Error code: 400 - {'error': {'message': \"Invalid value: 'interviewee'. Supported values are: 'assistant', 'system', 'developer', and 'user'.\", 'type': 'invalid_request_error', 'param': 'input[0]', 'code': 'invalid_value'}}\n",
      "Response from extract_task: Error generating response: Error code: 400 - {'error': {'message': \"Invalid value: 'interviewee'. Supported values are: 'assistant', 'system', 'developer', and 'user'.\", 'type': 'invalid_request_error', 'param': 'input[0]', 'code': 'invalid_value'}}\n",
      "Response from extract_action: Error generating response: Error code: 400 - {'error': {'message': \"Invalid value: 'interviewee'. Supported values are: 'assistant', 'system', 'developer', and 'user'.\", 'type': 'invalid_request_error', 'param': 'input[0]', 'code': 'invalid_value'}}\n",
      "Response from extract_result: Error generating response: Error code: 400 - {'error': {'message': \"Invalid value: 'interviewee'. Supported values are: 'assistant', 'system', 'developer', and 'user'.\", 'type': 'invalid_request_error', 'param': 'input[0]', 'code': 'invalid_value'}}\n",
      "Response from extract_situation: Error generating response: Error code: 400 - {'error': {'message': \"Invalid value: 'interviewee'. Supported values are: 'assistant', 'system', 'developer', and 'user'.\", 'type': 'invalid_request_error', 'param': 'input[0]', 'code': 'invalid_value'}}\n",
      "Response from extract_task: Error generating response: Error code: 400 - {'error': {'message': \"Invalid value: 'interviewee'. Supported values are: 'assistant', 'system', 'developer', and 'user'.\", 'type': 'invalid_request_error', 'param': 'input[0]', 'code': 'invalid_value'}}\n",
      "Response from extract_action: Error generating response: Error code: 400 - {'error': {'message': \"Invalid value: 'interviewee'. Supported values are: 'assistant', 'system', 'developer', and 'user'.\", 'type': 'invalid_request_error', 'param': 'input[0]', 'code': 'invalid_value'}}\n",
      "Response from extract_result: Error generating response: Error code: 400 - {'error': {'message': \"Invalid value: 'interviewee'. Supported values are: 'assistant', 'system', 'developer', and 'user'.\", 'type': 'invalid_request_error', 'param': 'input[0]', 'code': 'invalid_value'}}\n",
      "Tool call: ResponseFunctionToolCall(arguments='{\"Situation\":\"был случай с проектом, где нужно было сделать много задач; пытался планировать задачи и старался спокойно работать; успели вовремя завершить проект; было непросто, но справились\"}', call_id='call_hhNmSuXL7E8McbWFNMrWmkaO', name='extract_situation', type='function_call', id='fc_6802a02f60588192bfc8e4999690cdde029b41d6eefa8b40', status='completed')\n",
      "Response from extract_situation: {'Situation': 'был случай с проектом, где нужно было сделать много задач; пытался планировать задачи и старался спокойно работать; успели вовремя завершить проект; было непросто, но справились'}\n",
      "Tool call: ResponseFunctionToolCall(arguments='{\"Task\":\"планировать задачи и успеть выполнить большой объем работы в проекте\"}', call_id='call_7RsGpOIm3uB8cMnbtV7y4PbG', name='extract_task', type='function_call', id='fc_6802a0314a908192ae107912aafe97d005f5719f5e2c3ef2', status='completed')\n",
      "Response from extract_task: {'Task': 'планировать задачи и успеть выполнить большой объем работы в проекте'}\n",
      "Tool call: ResponseFunctionToolCall(arguments='{\"Action\":\"Вы планировали задачи и старались спокойно работать, чтобы успеть завершить проект вовремя несмотря на трудности.\"}', call_id='call_zzUkzIRqa33PFLWTJn3mNr0C', name='extract_action', type='function_call', id='fc_6802a03337548192a9d62fb05fae85270033ecc3a09a05ba', status='completed')\n",
      "Response from extract_action: {'Action': 'Вы планировали задачи и старались спокойно работать, чтобы успеть завершить проект вовремя несмотря на трудности.'}\n",
      "Tool call: ResponseFunctionToolCall(arguments='{\"Result\":\"В результате проекта команды удалось вовремя справиться со всеми задачами, несмотря на сложности.\"}', call_id='call_ZBoOskx4d0BthPefwOUb61kU', name='extract_result', type='function_call', id='fc_6802a034facc819287f00a8d881e3cb10216eec4fde8e0c3', status='completed')\n",
      "Response from extract_result: {'Result': 'В результате проекта команды удалось вовремя справиться со всеми задачами, несмотря на сложности.'}\n",
      "\n",
      "=== STAR-анализ ===\n",
      "Situation='Был случай с проектом, где нужно было сделать много задач. Пытался планировать задачи и старался спокойно работать. Успели вовремя завершить проект, было непросто, но справились.' Task='Планировать задачи и успеть выполнить большой объем работы в проекте.' Action='Вы планировали задачи и старались спокойно работать, чтобы успеть завершить проект вовремя, несмотря на трудности.' Result='В результате проекта команды удалось вовремя справиться со всеми задачами, несмотря на сложности.'\n",
      "\n",
      "=== Фидбек по STAR ===\n",
      "Ответ кандидата по компетенции 'стрессоустойчивость' хорошо структурирован и полностью покрывает метод STAR.\n",
      "\n",
      "=== Оценка по ценности ===\n",
      "conclusion='Ответ не соответствует полностью ожиданиям по ценности \"Ответственность\".' explanation='Кандидат не упоминает конкретные обязательства или обещания, которые он выполнял. Ответ весьма расплывчат, и нет чёткого акцента на личной ответственности или выполнении данных обещаний. Нет использования ключевых слов, таких как \"ответственность\", \"обещал\", \"взял на себя\", которые могли бы подчеркнуть его участие и вклад. Рекомендуется уточнить детали у кандидата или попросить привести более конкретные примеры выполнения обязательств, чтобы получить более полную картину его подхода к ответственности.\"'\n",
      "\n",
      "=== Вопрос кандидата HR'у ===\n"
     ]
    },
    {
     "ename": "AttributeError",
     "evalue": "'FunctionTool' object has no attribute 'run_async'",
     "output_type": "error",
     "traceback": [
      "\u001b[0;31m---------------------------------------------------------------------------\u001b[0m",
      "\u001b[0;31mAttributeError\u001b[0m                            Traceback (most recent call last)",
      "Cell \u001b[0;32mIn[15], line 49\u001b[0m\n\u001b[1;32m     46\u001b[0m     \u001b[38;5;28;01mreturn\u001b[39;00m \u001b[38;5;28;01mawait\u001b[39;00m ask_hr_question\u001b[38;5;241m.\u001b[39mrun_async([])\n\u001b[1;32m     48\u001b[0m \u001b[38;5;66;03m# И вызывать так:\u001b[39;00m\n\u001b[0;32m---> 49\u001b[0m \u001b[38;5;28mprint\u001b[39m(\u001b[38;5;28;01mawait\u001b[39;00m simulate_candidate_question())\n",
      "Cell \u001b[0;32mIn[15], line 46\u001b[0m, in \u001b[0;36msimulate_candidate_question\u001b[0;34m()\u001b[0m\n\u001b[1;32m     45\u001b[0m \u001b[38;5;28;01masync\u001b[39;00m \u001b[38;5;28;01mdef\u001b[39;00m\u001b[38;5;250m \u001b[39m\u001b[38;5;21msimulate_candidate_question\u001b[39m():\n\u001b[0;32m---> 46\u001b[0m     \u001b[38;5;28;01mreturn\u001b[39;00m \u001b[38;5;28;01mawait\u001b[39;00m \u001b[43mask_hr_question\u001b[49m\u001b[38;5;241;43m.\u001b[39;49m\u001b[43mrun_async\u001b[49m([])\n",
      "\u001b[0;31mAttributeError\u001b[0m: 'FunctionTool' object has no attribute 'run_async'"
     ]
    }
   ],
   "source": [
    "from app.agents.interviewee_agent_new import create_interviewee_agent\n",
    "from app.agents.evaluation_agent import create_evaluation_agent, generate_feedback\n",
    "from app.agents.value_agent import create_value_agent\n",
    "from app.agents.prompt_builder import render_star_prompt, render_value_prompt\n",
    "from app.agents.tools.ask_hr_question import ask_hr_question\n",
    "from agents import Runner\n",
    "\n",
    "# === 1. Настройки интервью ===\n",
    "persona = \"shy\"\n",
    "skill = \"стрессоустойчивость\"\n",
    "value_name = \"responsibility\"\n",
    "hr_question = \"Расскажите о ситуации, когда вы столкнулись с сильным давлением и как вы с ним справились\"\n",
    "\n",
    "# === 2. Кандидат отвечает ===\n",
    "interviewee = create_interviewee_agent(persona=persona, skill=skill)\n",
    "candidate_response = await Runner.run(interviewee, hr_question)\n",
    "print(\"=== Ответ кандидата ===\")\n",
    "print(candidate_response.final_output)\n",
    "\n",
    "# === 3. Оценка по STAR ===\n",
    "star_prompt = render_star_prompt(candidate_response.final_output, skill)\n",
    "star_agent = create_evaluation_agent(star_prompt)\n",
    "star_result = await Runner.run(star_agent, \"Проанализируй ответ по STAR\")\n",
    "\n",
    "star_output = star_result.final_output  # ← так правильно\n",
    "\n",
    "\n",
    "print(\"\\n=== STAR-анализ ===\")\n",
    "print(star_output)\n",
    "\n",
    "feedback = generate_feedback(star_output, skill)\n",
    "print(\"\\n=== Фидбек по STAR ===\")\n",
    "print(feedback)\n",
    "\n",
    "\n",
    "# === 4. Оценка по ценности ===\n",
    "value_prompt = render_value_prompt(value_name, candidate_response.final_output)\n",
    "value_agent = create_value_agent(value_prompt)\n",
    "value_result = await Runner.run(value_agent, \"Проанализируй ответ по корпоративной ценности\")\n",
    "print(\"\\n=== Оценка по ценности ===\")\n",
    "print(value_result.final_output)\n",
    "\n",
    "# === 5. Вопрос кандидата к HR ===\n",
    "print(\"\\n=== Вопрос кандидата HR'у ===\")\n",
    "async def simulate_candidate_question():\n",
    "    return await ask_hr_question.run_async([])\n",
    "\n",
    "# И вызывать так:\n",
    "print(await simulate_candidate_question())\n"
   ]
  },
  {
   "cell_type": "code",
   "execution_count": 11,
   "id": "9083c52e",
   "metadata": {},
   "outputs": [
    {
     "name": "stdout",
     "output_type": "stream",
     "text": [
      "Вот отличный вопрос для HR: \"Кто принимает решения о повышении?\"\n"
     ]
    }
   ],
   "source": [
    "from app.agents.tools.ask_hr_question import ask_hr_question, Message\n",
    "from agents import Runner, Agent\n",
    "\n",
    "# Мини-агент только с этим тулом\n",
    "agent = Agent(\n",
    "    name=\"TestAgent\",\n",
    "    instructions=\"Задай вопрос HR-у\",\n",
    "    tools=[ask_hr_question]\n",
    ")\n",
    "\n",
    "# Запуск через Runner\n",
    "result = await Runner.run(agent, \"Задай вопрос HR-у\")\n",
    "print(result.final_output)\n"
   ]
  },
  {
   "cell_type": "code",
   "execution_count": null,
   "id": "32453be2",
   "metadata": {},
   "outputs": [],
   "source": [
    "💼 Сценарий: \"Скромный кандидат и стрессоустойчивость\"\n",
    "🎭 Персона:\n",
    "Тип: Скромный кандидат\n",
    "\n",
    "Навык на проверку: Стрессоустойчивость\n",
    "\n",
    "Ценность: Ответственность\n",
    "\n",
    "🚀 Цель:\n",
    "✅ Получить ответ кандидата на вопрос HR\n",
    "\n",
    "✅ Провести STAR-анализ\n",
    "\n",
    "✅ Провести оценку по ценности\n",
    "\n",
    "✅ Сгенерировать фидбек\n",
    "\n",
    "✅ Получить встречный вопрос от кандидата HR'у"
   ]
  },
  {
   "cell_type": "markdown",
   "id": "a9445d36",
   "metadata": {},
   "source": []
  },
  {
   "cell_type": "markdown",
   "id": "c0188985",
   "metadata": {},
   "source": []
  }
 ],
 "metadata": {
  "kernelspec": {
   "display_name": ".venv",
   "language": "python",
   "name": "python3"
  },
  "language_info": {
   "codemirror_mode": {
    "name": "ipython",
    "version": 3
   },
   "file_extension": ".py",
   "mimetype": "text/x-python",
   "name": "python",
   "nbconvert_exporter": "python",
   "pygments_lexer": "ipython3",
   "version": "3.12.6"
  }
 },
 "nbformat": 4,
 "nbformat_minor": 5
}
